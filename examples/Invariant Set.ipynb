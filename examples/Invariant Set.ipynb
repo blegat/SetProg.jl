{
 "cells": [
  {
   "cell_type": "code",
   "execution_count": 1,
   "metadata": {},
   "outputs": [
    {
     "name": "stdout",
     "output_type": "stream",
     "text": [
      "\u001b[32m\u001b[1m  Updating\u001b[22m\u001b[39m registry at `~/.julia/registries/General`\n",
      "\u001b[32m\u001b[1m  Updating\u001b[22m\u001b[39m git-repo `https://github.com/JuliaRegistries/General.git`\n",
      "\u001b[?25l\u001b[2K\u001b[?25h"
     ]
    }
   ],
   "source": [
    "import Pkg\n",
    "Pkg.activate(@__DIR__)\n",
    "Pkg.instantiate()"
   ]
  },
  {
   "cell_type": "markdown",
   "metadata": {},
   "source": [
    "In this notebook, we compute the maximal (resp. minimal) invariant set contained in the square with vertices $(\\pm 1, \\pm 1)$ for the system\n",
    "$$\\begin{align*}\n",
    "x_{k+1} & = -y_k\\\\\n",
    "y_{k+1} & =  x_k.\n",
    "\\end{align*}$$\n",
    "\n",
    "The system is $x_{k+1} = Ax_k$ where\n",
    "$$\n",
    "A = \\begin{bmatrix}\n",
    "0 & -1\\\\\n",
    "1 & 0\n",
    "\\end{bmatrix}.\n",
    "$$\n",
    "A set $S$ is controlled invariant if\n",
    "$$AS \\subseteq S.$$"
   ]
  },
  {
   "cell_type": "code",
   "execution_count": 2,
   "metadata": {},
   "outputs": [],
   "source": [
    "using Polyhedra\n",
    "h = HalfSpace([1, 0], 1.0) ∩ HalfSpace([-1, 0], 1) ∩ HalfSpace([0, 1], 1) ∩ HalfSpace([0, -1], 1)\n",
    "□ = polyhedron(h);"
   ]
  },
  {
   "cell_type": "code",
   "execution_count": 3,
   "metadata": {},
   "outputs": [
    {
     "name": "stderr",
     "output_type": "stream",
     "text": [
      "┌ Info: Recompiling stale cache file /home/blegat/.julia/compiled/v1.1/SetProg/aNaaR.ji for SetProg [fc078b4a-c1ae-5945-9d19-22107d1bf3e1]\n",
      "└ @ Base loading.jl:1184\n"
     ]
    }
   ],
   "source": [
    "using MosekTools\n",
    "using SetProg\n",
    "optimizer_constructor = optimizer_with_attributes(Mosek.Optimizer, \"LOG\" => 0);"
   ]
  },
  {
   "cell_type": "code",
   "execution_count": 4,
   "metadata": {},
   "outputs": [
    {
     "data": {
      "text/plain": [
       "2×2 Array{Float64,2}:\n",
       " 0.0  -1.0\n",
       " 1.0   0.0"
      ]
     },
     "execution_count": 4,
     "metadata": {},
     "output_type": "execute_result"
    }
   ],
   "source": [
    "A = [0.0 -1.0\n",
    "     1.0  0.0]"
   ]
  },
  {
   "cell_type": "markdown",
   "metadata": {},
   "source": [
    "## Ellipsoids"
   ]
  },
  {
   "cell_type": "code",
   "execution_count": 5,
   "metadata": {},
   "outputs": [
    {
     "name": "stdout",
     "output_type": "stream",
     "text": [
      " 21.292837 seconds (73.23 M allocations: 3.720 GiB, 8.68% gc time)\n",
      "JuMP.termination_status(model) = OPTIMAL::TerminationStatusCode = 1\n",
      "JuMP.objective_value(model) = 1.000000005470066\n"
     ]
    },
    {
     "data": {
      "text/plain": [
       "SetProg.Sets.Polar{Float64,SetProg.Sets.EllipsoidAtOrigin{Float64}}(SetProg.Sets.EllipsoidAtOrigin{Float64}([1.0 -3.89625e-22; -3.89625e-22 1.0]))"
      ]
     },
     "execution_count": 5,
     "metadata": {},
     "output_type": "execute_result"
    }
   ],
   "source": [
    "model = Model(optimizer_constructor);\n",
    "@variable(model, S, Ellipsoid(symmetric=true))\n",
    "@constraint(model, S ⊆ □)\n",
    "@constraint(model, A * S ⊆ S)\n",
    "@objective(model, Max, nth_root(volume(S)))\n",
    "@time JuMP.optimize!(model)\n",
    "@show JuMP.termination_status(model)\n",
    "@show JuMP.objective_value(model);\n",
    "maximal = JuMP.value(S)"
   ]
  },
  {
   "cell_type": "code",
   "execution_count": 6,
   "metadata": {},
   "outputs": [
    {
     "name": "stdout",
     "output_type": "stream",
     "text": [
      "  9.646907 seconds (58.34 M allocations: 3.036 GiB, 12.39% gc time)\n",
      "JuMP.termination_status(model) = OPTIMAL::TerminationStatusCode = 1\n",
      "JuMP.objective_value(model) = 0.5000000005459557\n"
     ]
    },
    {
     "data": {
      "text/plain": [
       "SetProg.Sets.EllipsoidAtOrigin{Float64}([0.5 3.69965e-16; 3.69965e-16 0.5])"
      ]
     },
     "execution_count": 6,
     "metadata": {},
     "output_type": "execute_result"
    }
   ],
   "source": [
    "model = Model(optimizer_constructor);\n",
    "@variable(model, S, Ellipsoid(symmetric=true))\n",
    "@constraint(model, □ ⊆ S)\n",
    "@constraint(model, A * S ⊆ S)\n",
    "@objective(model, Min, nth_root(volume(S)))\n",
    "@time JuMP.optimize!(model)\n",
    "@show JuMP.termination_status(model)\n",
    "@show JuMP.objective_value(model);\n",
    "minimal = JuMP.value(S)"
   ]
  },
  {
   "cell_type": "code",
   "execution_count": 7,
   "metadata": {},
   "outputs": [
    {
     "data": {
      "image/svg+xml": [
       "<?xml version=\"1.0\" encoding=\"utf-8\"?>\n",
       "<svg xmlns=\"http://www.w3.org/2000/svg\" xmlns:xlink=\"http://www.w3.org/1999/xlink\" width=\"600\" height=\"400\" viewBox=\"0 0 2400 1600\">\n",
       "<defs>\n",
       "  <clipPath id=\"clip8400\">\n",
       "    <rect x=\"0\" y=\"0\" width=\"2400\" height=\"1600\"/>\n",
       "  </clipPath>\n",
       "</defs>\n",
       "<polygon clip-path=\"url(#clip8400)\" points=\"\n",
       "0,1600 2400,1600 2400,0 0,0 \n",
       "  \" fill=\"#ffffff\" fill-rule=\"evenodd\" fill-opacity=\"1\"/>\n",
       "<defs>\n",
       "  <clipPath id=\"clip8401\">\n",
       "    <rect x=\"480\" y=\"0\" width=\"1681\" height=\"1600\"/>\n",
       "  </clipPath>\n",
       "</defs>\n",
       "<polygon clip-path=\"url(#clip8400)\" points=\"\n",
       "527.267,1503.47 1983.5,1503.47 1983.5,47.2441 527.267,47.2441 \n",
       "  \" fill=\"#ffffff\" fill-rule=\"evenodd\" fill-opacity=\"1\"/>\n",
       "<defs>\n",
       "  <clipPath id=\"clip8402\">\n",
       "    <rect x=\"527\" y=\"47\" width=\"1457\" height=\"1457\"/>\n",
       "  </clipPath>\n",
       "</defs>\n",
       "<polyline clip-path=\"url(#clip8402)\" style=\"stroke:#000000; stroke-width:2; stroke-opacity:0.1; fill:none\" points=\"\n",
       "  769.669,1503.47 769.669,47.2441 \n",
       "  \"/>\n",
       "<polyline clip-path=\"url(#clip8402)\" style=\"stroke:#000000; stroke-width:2; stroke-opacity:0.1; fill:none\" points=\"\n",
       "  1012.53,1503.47 1012.53,47.2441 \n",
       "  \"/>\n",
       "<polyline clip-path=\"url(#clip8402)\" style=\"stroke:#000000; stroke-width:2; stroke-opacity:0.1; fill:none\" points=\"\n",
       "  1255.38,1503.47 1255.38,47.2441 \n",
       "  \"/>\n",
       "<polyline clip-path=\"url(#clip8402)\" style=\"stroke:#000000; stroke-width:2; stroke-opacity:0.1; fill:none\" points=\"\n",
       "  1498.24,1503.47 1498.24,47.2441 \n",
       "  \"/>\n",
       "<polyline clip-path=\"url(#clip8402)\" style=\"stroke:#000000; stroke-width:2; stroke-opacity:0.1; fill:none\" points=\"\n",
       "  1741.09,1503.47 1741.09,47.2441 \n",
       "  \"/>\n",
       "<polyline clip-path=\"url(#clip8402)\" style=\"stroke:#000000; stroke-width:2; stroke-opacity:0.1; fill:none\" points=\"\n",
       "  527.267,1261.07 1983.5,1261.07 \n",
       "  \"/>\n",
       "<polyline clip-path=\"url(#clip8402)\" style=\"stroke:#000000; stroke-width:2; stroke-opacity:0.1; fill:none\" points=\"\n",
       "  527.267,1018.22 1983.5,1018.22 \n",
       "  \"/>\n",
       "<polyline clip-path=\"url(#clip8402)\" style=\"stroke:#000000; stroke-width:2; stroke-opacity:0.1; fill:none\" points=\"\n",
       "  527.267,775.359 1983.5,775.359 \n",
       "  \"/>\n",
       "<polyline clip-path=\"url(#clip8402)\" style=\"stroke:#000000; stroke-width:2; stroke-opacity:0.1; fill:none\" points=\"\n",
       "  527.267,532.503 1983.5,532.503 \n",
       "  \"/>\n",
       "<polyline clip-path=\"url(#clip8402)\" style=\"stroke:#000000; stroke-width:2; stroke-opacity:0.1; fill:none\" points=\"\n",
       "  527.267,289.647 1983.5,289.647 \n",
       "  \"/>\n",
       "<polyline clip-path=\"url(#clip8400)\" style=\"stroke:#000000; stroke-width:4; stroke-opacity:1; fill:none\" points=\"\n",
       "  527.267,1503.47 1983.5,1503.47 \n",
       "  \"/>\n",
       "<polyline clip-path=\"url(#clip8400)\" style=\"stroke:#000000; stroke-width:4; stroke-opacity:1; fill:none\" points=\"\n",
       "  527.267,1503.47 527.267,47.2441 \n",
       "  \"/>\n",
       "<polyline clip-path=\"url(#clip8400)\" style=\"stroke:#000000; stroke-width:4; stroke-opacity:1; fill:none\" points=\"\n",
       "  769.669,1503.47 769.669,1481.63 \n",
       "  \"/>\n",
       "<polyline clip-path=\"url(#clip8400)\" style=\"stroke:#000000; stroke-width:4; stroke-opacity:1; fill:none\" points=\"\n",
       "  1012.53,1503.47 1012.53,1481.63 \n",
       "  \"/>\n",
       "<polyline clip-path=\"url(#clip8400)\" style=\"stroke:#000000; stroke-width:4; stroke-opacity:1; fill:none\" points=\"\n",
       "  1255.38,1503.47 1255.38,1481.63 \n",
       "  \"/>\n",
       "<polyline clip-path=\"url(#clip8400)\" style=\"stroke:#000000; stroke-width:4; stroke-opacity:1; fill:none\" points=\"\n",
       "  1498.24,1503.47 1498.24,1481.63 \n",
       "  \"/>\n",
       "<polyline clip-path=\"url(#clip8400)\" style=\"stroke:#000000; stroke-width:4; stroke-opacity:1; fill:none\" points=\"\n",
       "  1741.09,1503.47 1741.09,1481.63 \n",
       "  \"/>\n",
       "<polyline clip-path=\"url(#clip8400)\" style=\"stroke:#000000; stroke-width:4; stroke-opacity:1; fill:none\" points=\"\n",
       "  527.267,1261.07 549.11,1261.07 \n",
       "  \"/>\n",
       "<polyline clip-path=\"url(#clip8400)\" style=\"stroke:#000000; stroke-width:4; stroke-opacity:1; fill:none\" points=\"\n",
       "  527.267,1018.22 549.11,1018.22 \n",
       "  \"/>\n",
       "<polyline clip-path=\"url(#clip8400)\" style=\"stroke:#000000; stroke-width:4; stroke-opacity:1; fill:none\" points=\"\n",
       "  527.267,775.359 549.11,775.359 \n",
       "  \"/>\n",
       "<polyline clip-path=\"url(#clip8400)\" style=\"stroke:#000000; stroke-width:4; stroke-opacity:1; fill:none\" points=\"\n",
       "  527.267,532.503 549.11,532.503 \n",
       "  \"/>\n",
       "<polyline clip-path=\"url(#clip8400)\" style=\"stroke:#000000; stroke-width:4; stroke-opacity:1; fill:none\" points=\"\n",
       "  527.267,289.647 549.11,289.647 \n",
       "  \"/>\n",
       "<g clip-path=\"url(#clip8400)\">\n",
       "<text style=\"fill:#000000; fill-opacity:1; font-family:Arial,Helvetica Neue,Helvetica,sans-serif; font-size:48px; text-anchor:middle;\" transform=\"rotate(0, 769.669, 1557.47)\" x=\"769.669\" y=\"1557.47\">-1.0</text>\n",
       "</g>\n",
       "<g clip-path=\"url(#clip8400)\">\n",
       "<text style=\"fill:#000000; fill-opacity:1; font-family:Arial,Helvetica Neue,Helvetica,sans-serif; font-size:48px; text-anchor:middle;\" transform=\"rotate(0, 1012.53, 1557.47)\" x=\"1012.53\" y=\"1557.47\">-0.5</text>\n",
       "</g>\n",
       "<g clip-path=\"url(#clip8400)\">\n",
       "<text style=\"fill:#000000; fill-opacity:1; font-family:Arial,Helvetica Neue,Helvetica,sans-serif; font-size:48px; text-anchor:middle;\" transform=\"rotate(0, 1255.38, 1557.47)\" x=\"1255.38\" y=\"1557.47\">0.0</text>\n",
       "</g>\n",
       "<g clip-path=\"url(#clip8400)\">\n",
       "<text style=\"fill:#000000; fill-opacity:1; font-family:Arial,Helvetica Neue,Helvetica,sans-serif; font-size:48px; text-anchor:middle;\" transform=\"rotate(0, 1498.24, 1557.47)\" x=\"1498.24\" y=\"1557.47\">0.5</text>\n",
       "</g>\n",
       "<g clip-path=\"url(#clip8400)\">\n",
       "<text style=\"fill:#000000; fill-opacity:1; font-family:Arial,Helvetica Neue,Helvetica,sans-serif; font-size:48px; text-anchor:middle;\" transform=\"rotate(0, 1741.09, 1557.47)\" x=\"1741.09\" y=\"1557.47\">1.0</text>\n",
       "</g>\n",
       "<g clip-path=\"url(#clip8400)\">\n",
       "<text style=\"fill:#000000; fill-opacity:1; font-family:Arial,Helvetica Neue,Helvetica,sans-serif; font-size:48px; text-anchor:end;\" transform=\"rotate(0, 503.267, 1278.57)\" x=\"503.267\" y=\"1278.57\">-1.0</text>\n",
       "</g>\n",
       "<g clip-path=\"url(#clip8400)\">\n",
       "<text style=\"fill:#000000; fill-opacity:1; font-family:Arial,Helvetica Neue,Helvetica,sans-serif; font-size:48px; text-anchor:end;\" transform=\"rotate(0, 503.267, 1035.72)\" x=\"503.267\" y=\"1035.72\">-0.5</text>\n",
       "</g>\n",
       "<g clip-path=\"url(#clip8400)\">\n",
       "<text style=\"fill:#000000; fill-opacity:1; font-family:Arial,Helvetica Neue,Helvetica,sans-serif; font-size:48px; text-anchor:end;\" transform=\"rotate(0, 503.267, 792.859)\" x=\"503.267\" y=\"792.859\">0.0</text>\n",
       "</g>\n",
       "<g clip-path=\"url(#clip8400)\">\n",
       "<text style=\"fill:#000000; fill-opacity:1; font-family:Arial,Helvetica Neue,Helvetica,sans-serif; font-size:48px; text-anchor:end;\" transform=\"rotate(0, 503.267, 550.003)\" x=\"503.267\" y=\"550.003\">0.5</text>\n",
       "</g>\n",
       "<g clip-path=\"url(#clip8400)\">\n",
       "<text style=\"fill:#000000; fill-opacity:1; font-family:Arial,Helvetica Neue,Helvetica,sans-serif; font-size:48px; text-anchor:end;\" transform=\"rotate(0, 503.267, 307.147)\" x=\"503.267\" y=\"307.147\">1.0</text>\n",
       "</g>\n",
       "<polygon clip-path=\"url(#clip8402)\" points=\"\n",
       "1942.28,775.359 1938.98,708.031 1929.08,641.352 1912.71,575.963 1890,512.494 1861.17,451.556 1826.52,393.738 1786.36,339.594 1741.09,289.647 1691.15,244.378 \n",
       "  1637,204.222 1579.18,169.567 1518.25,140.745 1454.78,118.036 1389.39,101.657 1322.71,91.7658 1255.38,88.4582 1188.05,91.7658 1121.37,101.657 1055.99,118.036 \n",
       "  992.516,140.745 931.579,169.567 873.76,204.222 819.616,244.378 769.669,289.647 724.4,339.594 684.244,393.738 649.589,451.556 620.768,512.494 598.058,575.963 \n",
       "  581.679,641.352 571.788,708.031 568.481,775.359 571.788,842.688 581.679,909.367 598.058,974.756 620.768,1038.23 649.589,1099.16 684.244,1156.98 724.4,1211.12 \n",
       "  769.669,1261.07 819.616,1306.34 873.76,1346.5 931.579,1381.15 992.516,1409.97 1055.99,1432.68 1121.37,1449.06 1188.05,1458.95 1255.38,1462.26 1322.71,1458.95 \n",
       "  1389.39,1449.06 1454.78,1432.68 1518.25,1409.97 1579.18,1381.15 1637,1346.5 1691.15,1306.34 1741.09,1261.07 1786.36,1211.12 1826.52,1156.98 1861.17,1099.16 \n",
       "  1890,1038.23 1912.71,974.756 1929.08,909.367 1938.98,842.688 1942.28,775.359 \n",
       "  \" fill=\"#009af9\" fill-rule=\"evenodd\" fill-opacity=\"1\"/>\n",
       "<polyline clip-path=\"url(#clip8402)\" style=\"stroke:#000000; stroke-width:4; stroke-opacity:1; fill:none\" points=\"\n",
       "  1942.28,775.359 1938.98,708.031 1929.08,641.352 1912.71,575.963 1890,512.494 1861.17,451.556 1826.52,393.738 1786.36,339.594 1741.09,289.647 1691.15,244.378 \n",
       "  1637,204.222 1579.18,169.567 1518.25,140.745 1454.78,118.036 1389.39,101.657 1322.71,91.7658 1255.38,88.4582 1188.05,91.7658 1121.37,101.657 1055.99,118.036 \n",
       "  992.516,140.745 931.579,169.567 873.76,204.222 819.616,244.378 769.669,289.647 724.4,339.594 684.244,393.738 649.589,451.556 620.768,512.494 598.058,575.963 \n",
       "  581.679,641.352 571.788,708.031 568.481,775.359 571.788,842.688 581.679,909.367 598.058,974.756 620.768,1038.23 649.589,1099.16 684.244,1156.98 724.4,1211.12 \n",
       "  769.669,1261.07 819.616,1306.34 873.76,1346.5 931.579,1381.15 992.516,1409.97 1055.99,1432.68 1121.37,1449.06 1188.05,1458.95 1255.38,1462.26 1322.71,1458.95 \n",
       "  1389.39,1449.06 1454.78,1432.68 1518.25,1409.97 1579.18,1381.15 1637,1346.5 1691.15,1306.34 1741.09,1261.07 1786.36,1211.12 1826.52,1156.98 1861.17,1099.16 \n",
       "  1890,1038.23 1912.71,974.756 1929.08,909.367 1938.98,842.688 1942.28,775.359 \n",
       "  \"/>\n",
       "<polygon clip-path=\"url(#clip8402)\" points=\"\n",
       "769.669,289.647 1741.09,289.647 1741.09,1261.07 769.669,1261.07 769.669,289.647 769.669,289.647 \n",
       "  \" fill=\"#e26f46\" fill-rule=\"evenodd\" fill-opacity=\"1\"/>\n",
       "<polyline clip-path=\"url(#clip8402)\" style=\"stroke:#000000; stroke-width:4; stroke-opacity:1; fill:none\" points=\"\n",
       "  769.669,289.647 1741.09,289.647 1741.09,1261.07 769.669,1261.07 769.669,289.647 \n",
       "  \"/>\n",
       "<polygon clip-path=\"url(#clip8402)\" points=\"\n",
       "1741.09,775.359 1738.76,727.751 1731.76,680.602 1720.18,634.365 1704.12,589.485 1683.74,546.396 1659.24,505.512 1630.84,467.227 1598.83,431.909 1563.51,399.899 \n",
       "  1525.23,371.504 1484.35,346.999 1441.26,326.62 1396.38,310.562 1350.14,298.98 1302.99,291.986 1255.38,289.647 1207.77,291.986 1160.62,298.98 1114.39,310.562 \n",
       "  1069.51,326.62 1026.42,346.999 985.535,371.504 947.249,399.899 911.931,431.909 879.921,467.227 851.527,505.512 827.022,546.396 806.642,589.485 790.584,634.365 \n",
       "  779.002,680.602 772.008,727.751 769.669,775.359 772.008,822.968 779.002,870.117 790.584,916.354 806.642,961.234 827.022,1004.32 851.527,1045.21 879.921,1083.49 \n",
       "  911.931,1118.81 947.249,1150.82 985.535,1179.21 1026.42,1203.72 1069.51,1224.1 1114.39,1240.16 1160.62,1251.74 1207.77,1258.73 1255.38,1261.07 1302.99,1258.73 \n",
       "  1350.14,1251.74 1396.38,1240.16 1441.26,1224.1 1484.35,1203.72 1525.23,1179.21 1563.51,1150.82 1598.83,1118.81 1630.84,1083.49 1659.24,1045.21 1683.74,1004.32 \n",
       "  1704.12,961.234 1720.18,916.354 1731.76,870.117 1738.76,822.968 1741.09,775.359 \n",
       "  \" fill=\"#3da44d\" fill-rule=\"evenodd\" fill-opacity=\"1\"/>\n",
       "<polyline clip-path=\"url(#clip8402)\" style=\"stroke:#000000; stroke-width:4; stroke-opacity:1; fill:none\" points=\"\n",
       "  1741.09,775.359 1738.76,727.751 1731.76,680.602 1720.18,634.365 1704.12,589.485 1683.74,546.396 1659.24,505.512 1630.84,467.227 1598.83,431.909 1563.51,399.899 \n",
       "  1525.23,371.504 1484.35,346.999 1441.26,326.62 1396.38,310.562 1350.14,298.98 1302.99,291.986 1255.38,289.647 1207.77,291.986 1160.62,298.98 1114.39,310.562 \n",
       "  1069.51,326.62 1026.42,346.999 985.535,371.504 947.249,399.899 911.931,431.909 879.921,467.227 851.527,505.512 827.022,546.396 806.642,589.485 790.584,634.365 \n",
       "  779.002,680.602 772.008,727.751 769.669,775.359 772.008,822.968 779.002,870.117 790.584,916.354 806.642,961.234 827.022,1004.32 851.527,1045.21 879.921,1083.49 \n",
       "  911.931,1118.81 947.249,1150.82 985.535,1179.21 1026.42,1203.72 1069.51,1224.1 1114.39,1240.16 1160.62,1251.74 1207.77,1258.73 1255.38,1261.07 1302.99,1258.73 \n",
       "  1350.14,1251.74 1396.38,1240.16 1441.26,1224.1 1484.35,1203.72 1525.23,1179.21 1563.51,1150.82 1598.83,1118.81 1630.84,1083.49 1659.24,1045.21 1683.74,1004.32 \n",
       "  1704.12,961.234 1720.18,916.354 1731.76,870.117 1738.76,822.968 1741.09,775.359 \n",
       "  \"/>\n",
       "</svg>\n"
      ]
     },
     "execution_count": 7,
     "metadata": {},
     "output_type": "execute_result"
    }
   ],
   "source": [
    "using Plots\n",
    "plot(ratio=:equal)\n",
    "plot!(minimal)\n",
    "plot!(□)\n",
    "plot!(maximal)"
   ]
  },
  {
   "cell_type": "markdown",
   "metadata": {},
   "source": [
    "## Quartic"
   ]
  },
  {
   "cell_type": "code",
   "execution_count": 8,
   "metadata": {},
   "outputs": [
    {
     "name": "stdout",
     "output_type": "stream",
     "text": [
      " 13.646685 seconds (32.49 M allocations: 1.599 GiB, 7.08% gc time)\n",
      "JuMP.termination_status(model) = OPTIMAL::TerminationStatusCode = 1\n",
      "JuMP.objective_value(model) = 6.44741927121497\n"
     ]
    },
    {
     "data": {
      "text/plain": [
       "SetProg.Sets.Polar{Float64,SetProg.Sets.ConvexPolynomialSublevelSetAtOrigin{Float64}}(SetProg.Sets.ConvexPolynomialSublevelSetAtOrigin{Float64}(4, SumOfSquares.GramMatrix{Float64,DynamicPolynomials.Monomial{true},DynamicPolynomials.MonomialVector{true}}([1.0 -8.17009e-19 -0.110515; -8.17009e-19 3.04958 8.17008e-19; -0.110515 8.17008e-19 1.0], DynamicPolynomials.Monomial{true}[x₁², x₁x₂, x₂²]), [12.0 1.04179e-18 -1.93134e-18 8.48532; 1.04179e-18 5.6571 2.82888 9.02894e-17; -1.93134e-18 2.82888 5.6571 1.57872e-16; 8.48532 9.02894e-17 1.57872e-16 12.0]))"
      ]
     },
     "execution_count": 8,
     "metadata": {},
     "output_type": "execute_result"
    }
   ],
   "source": [
    "model = Model(optimizer_constructor);\n",
    "@variable(model, S, PolySet(degree=4, convex=true, symmetric=true))\n",
    "@constraint(model, S ⊆ □)\n",
    "@constraint(model, A * S ⊆ S)\n",
    "@objective(model, Max, nth_root(volume(S)))\n",
    "@time JuMP.optimize!(model)\n",
    "@show JuMP.termination_status(model)\n",
    "@show JuMP.objective_value(model);\n",
    "maximal_convex = JuMP.value(S)"
   ]
  },
  {
   "cell_type": "code",
   "execution_count": 9,
   "metadata": {},
   "outputs": [
    {
     "name": "stdout",
     "output_type": "stream",
     "text": [
      "  0.191278 seconds (278.72 k allocations: 14.386 MiB)\n",
      "JuMP.termination_status(model) = OPTIMAL::TerminationStatusCode = 1\n",
      "JuMP.objective_value(model) = 1.6118548964415274\n"
     ]
    },
    {
     "data": {
      "text/plain": [
       "SetProg.Sets.ConvexPolynomialSublevelSetAtOrigin{Float64}(4, SumOfSquares.GramMatrix{Float64,DynamicPolynomials.Monomial{true},DynamicPolynomials.MonomialVector{true}}([0.301775 2.25458e-15 -0.0783313; 2.25458e-15 0.553112 9.226e-15; -0.0783313 9.226e-15 0.301775], DynamicPolynomials.Monomial{true}[x₁², x₁x₂, x₂²]), [3.6213 2.73985e-14 2.73991e-14 1.50001; 2.73985e-14 0.792899 0.0857911 3.11343e-14; 2.73991e-14 0.0857911 0.792899 3.11313e-14; 1.50001 3.11343e-14 3.11313e-14 3.6213])"
      ]
     },
     "execution_count": 9,
     "metadata": {},
     "output_type": "execute_result"
    }
   ],
   "source": [
    "model = Model(optimizer_constructor);\n",
    "@variable(model, S, PolySet(degree=4, convex=true, symmetric=true))\n",
    "@constraint(model, □ ⊆ S)\n",
    "@constraint(model, A * S ⊆ S)\n",
    "@objective(model, Min, nth_root(volume(S)))\n",
    "@time JuMP.optimize!(model)\n",
    "@show JuMP.termination_status(model)\n",
    "@show JuMP.objective_value(model);\n",
    "minimal_convex = JuMP.value(S)"
   ]
  },
  {
   "cell_type": "code",
   "execution_count": 10,
   "metadata": {},
   "outputs": [
    {
     "data": {
      "image/svg+xml": [
       "<?xml version=\"1.0\" encoding=\"utf-8\"?>\n",
       "<svg xmlns=\"http://www.w3.org/2000/svg\" xmlns:xlink=\"http://www.w3.org/1999/xlink\" width=\"600\" height=\"400\" viewBox=\"0 0 2400 1600\">\n",
       "<defs>\n",
       "  <clipPath id=\"clip8800\">\n",
       "    <rect x=\"0\" y=\"0\" width=\"2400\" height=\"1600\"/>\n",
       "  </clipPath>\n",
       "</defs>\n",
       "<polygon clip-path=\"url(#clip8800)\" points=\"\n",
       "0,1600 2400,1600 2400,0 0,0 \n",
       "  \" fill=\"#ffffff\" fill-rule=\"evenodd\" fill-opacity=\"1\"/>\n",
       "<defs>\n",
       "  <clipPath id=\"clip8801\">\n",
       "    <rect x=\"480\" y=\"0\" width=\"1681\" height=\"1600\"/>\n",
       "  </clipPath>\n",
       "</defs>\n",
       "<polygon clip-path=\"url(#clip8800)\" points=\"\n",
       "527.267,1503.47 1983.5,1503.47 1983.5,47.2441 527.267,47.2441 \n",
       "  \" fill=\"#ffffff\" fill-rule=\"evenodd\" fill-opacity=\"1\"/>\n",
       "<defs>\n",
       "  <clipPath id=\"clip8802\">\n",
       "    <rect x=\"527\" y=\"47\" width=\"1457\" height=\"1457\"/>\n",
       "  </clipPath>\n",
       "</defs>\n",
       "<polyline clip-path=\"url(#clip8802)\" style=\"stroke:#000000; stroke-width:2; stroke-opacity:0.1; fill:none\" points=\"\n",
       "  746.268,1503.47 746.268,47.2441 \n",
       "  \"/>\n",
       "<polyline clip-path=\"url(#clip8802)\" style=\"stroke:#000000; stroke-width:2; stroke-opacity:0.1; fill:none\" points=\"\n",
       "  1000.82,1503.47 1000.82,47.2441 \n",
       "  \"/>\n",
       "<polyline clip-path=\"url(#clip8802)\" style=\"stroke:#000000; stroke-width:2; stroke-opacity:0.1; fill:none\" points=\"\n",
       "  1255.38,1503.47 1255.38,47.2441 \n",
       "  \"/>\n",
       "<polyline clip-path=\"url(#clip8802)\" style=\"stroke:#000000; stroke-width:2; stroke-opacity:0.1; fill:none\" points=\"\n",
       "  1509.94,1503.47 1509.94,47.2441 \n",
       "  \"/>\n",
       "<polyline clip-path=\"url(#clip8802)\" style=\"stroke:#000000; stroke-width:2; stroke-opacity:0.1; fill:none\" points=\"\n",
       "  1764.5,1503.47 1764.5,47.2441 \n",
       "  \"/>\n",
       "<polyline clip-path=\"url(#clip8802)\" style=\"stroke:#000000; stroke-width:2; stroke-opacity:0.1; fill:none\" points=\"\n",
       "  527.267,1284.47 1983.5,1284.47 \n",
       "  \"/>\n",
       "<polyline clip-path=\"url(#clip8802)\" style=\"stroke:#000000; stroke-width:2; stroke-opacity:0.1; fill:none\" points=\"\n",
       "  527.267,1029.92 1983.5,1029.92 \n",
       "  \"/>\n",
       "<polyline clip-path=\"url(#clip8802)\" style=\"stroke:#000000; stroke-width:2; stroke-opacity:0.1; fill:none\" points=\"\n",
       "  527.267,775.359 1983.5,775.359 \n",
       "  \"/>\n",
       "<polyline clip-path=\"url(#clip8802)\" style=\"stroke:#000000; stroke-width:2; stroke-opacity:0.1; fill:none\" points=\"\n",
       "  527.267,520.802 1983.5,520.802 \n",
       "  \"/>\n",
       "<polyline clip-path=\"url(#clip8802)\" style=\"stroke:#000000; stroke-width:2; stroke-opacity:0.1; fill:none\" points=\"\n",
       "  527.267,266.245 1983.5,266.245 \n",
       "  \"/>\n",
       "<polyline clip-path=\"url(#clip8800)\" style=\"stroke:#000000; stroke-width:4; stroke-opacity:1; fill:none\" points=\"\n",
       "  527.267,1503.47 1983.5,1503.47 \n",
       "  \"/>\n",
       "<polyline clip-path=\"url(#clip8800)\" style=\"stroke:#000000; stroke-width:4; stroke-opacity:1; fill:none\" points=\"\n",
       "  527.267,1503.47 527.267,47.2441 \n",
       "  \"/>\n",
       "<polyline clip-path=\"url(#clip8800)\" style=\"stroke:#000000; stroke-width:4; stroke-opacity:1; fill:none\" points=\"\n",
       "  746.268,1503.47 746.268,1481.63 \n",
       "  \"/>\n",
       "<polyline clip-path=\"url(#clip8800)\" style=\"stroke:#000000; stroke-width:4; stroke-opacity:1; fill:none\" points=\"\n",
       "  1000.82,1503.47 1000.82,1481.63 \n",
       "  \"/>\n",
       "<polyline clip-path=\"url(#clip8800)\" style=\"stroke:#000000; stroke-width:4; stroke-opacity:1; fill:none\" points=\"\n",
       "  1255.38,1503.47 1255.38,1481.63 \n",
       "  \"/>\n",
       "<polyline clip-path=\"url(#clip8800)\" style=\"stroke:#000000; stroke-width:4; stroke-opacity:1; fill:none\" points=\"\n",
       "  1509.94,1503.47 1509.94,1481.63 \n",
       "  \"/>\n",
       "<polyline clip-path=\"url(#clip8800)\" style=\"stroke:#000000; stroke-width:4; stroke-opacity:1; fill:none\" points=\"\n",
       "  1764.5,1503.47 1764.5,1481.63 \n",
       "  \"/>\n",
       "<polyline clip-path=\"url(#clip8800)\" style=\"stroke:#000000; stroke-width:4; stroke-opacity:1; fill:none\" points=\"\n",
       "  527.267,1284.47 549.11,1284.47 \n",
       "  \"/>\n",
       "<polyline clip-path=\"url(#clip8800)\" style=\"stroke:#000000; stroke-width:4; stroke-opacity:1; fill:none\" points=\"\n",
       "  527.267,1029.92 549.11,1029.92 \n",
       "  \"/>\n",
       "<polyline clip-path=\"url(#clip8800)\" style=\"stroke:#000000; stroke-width:4; stroke-opacity:1; fill:none\" points=\"\n",
       "  527.267,775.359 549.11,775.359 \n",
       "  \"/>\n",
       "<polyline clip-path=\"url(#clip8800)\" style=\"stroke:#000000; stroke-width:4; stroke-opacity:1; fill:none\" points=\"\n",
       "  527.267,520.802 549.11,520.802 \n",
       "  \"/>\n",
       "<polyline clip-path=\"url(#clip8800)\" style=\"stroke:#000000; stroke-width:4; stroke-opacity:1; fill:none\" points=\"\n",
       "  527.267,266.245 549.11,266.245 \n",
       "  \"/>\n",
       "<g clip-path=\"url(#clip8800)\">\n",
       "<text style=\"fill:#000000; fill-opacity:1; font-family:Arial,Helvetica Neue,Helvetica,sans-serif; font-size:48px; text-anchor:middle;\" transform=\"rotate(0, 746.268, 1557.47)\" x=\"746.268\" y=\"1557.47\">-1.0</text>\n",
       "</g>\n",
       "<g clip-path=\"url(#clip8800)\">\n",
       "<text style=\"fill:#000000; fill-opacity:1; font-family:Arial,Helvetica Neue,Helvetica,sans-serif; font-size:48px; text-anchor:middle;\" transform=\"rotate(0, 1000.82, 1557.47)\" x=\"1000.82\" y=\"1557.47\">-0.5</text>\n",
       "</g>\n",
       "<g clip-path=\"url(#clip8800)\">\n",
       "<text style=\"fill:#000000; fill-opacity:1; font-family:Arial,Helvetica Neue,Helvetica,sans-serif; font-size:48px; text-anchor:middle;\" transform=\"rotate(0, 1255.38, 1557.47)\" x=\"1255.38\" y=\"1557.47\">0.0</text>\n",
       "</g>\n",
       "<g clip-path=\"url(#clip8800)\">\n",
       "<text style=\"fill:#000000; fill-opacity:1; font-family:Arial,Helvetica Neue,Helvetica,sans-serif; font-size:48px; text-anchor:middle;\" transform=\"rotate(0, 1509.94, 1557.47)\" x=\"1509.94\" y=\"1557.47\">0.5</text>\n",
       "</g>\n",
       "<g clip-path=\"url(#clip8800)\">\n",
       "<text style=\"fill:#000000; fill-opacity:1; font-family:Arial,Helvetica Neue,Helvetica,sans-serif; font-size:48px; text-anchor:middle;\" transform=\"rotate(0, 1764.5, 1557.47)\" x=\"1764.5\" y=\"1557.47\">1.0</text>\n",
       "</g>\n",
       "<g clip-path=\"url(#clip8800)\">\n",
       "<text style=\"fill:#000000; fill-opacity:1; font-family:Arial,Helvetica Neue,Helvetica,sans-serif; font-size:48px; text-anchor:end;\" transform=\"rotate(0, 503.267, 1301.97)\" x=\"503.267\" y=\"1301.97\">-1.0</text>\n",
       "</g>\n",
       "<g clip-path=\"url(#clip8800)\">\n",
       "<text style=\"fill:#000000; fill-opacity:1; font-family:Arial,Helvetica Neue,Helvetica,sans-serif; font-size:48px; text-anchor:end;\" transform=\"rotate(0, 503.267, 1047.42)\" x=\"503.267\" y=\"1047.42\">-0.5</text>\n",
       "</g>\n",
       "<g clip-path=\"url(#clip8800)\">\n",
       "<text style=\"fill:#000000; fill-opacity:1; font-family:Arial,Helvetica Neue,Helvetica,sans-serif; font-size:48px; text-anchor:end;\" transform=\"rotate(0, 503.267, 792.859)\" x=\"503.267\" y=\"792.859\">0.0</text>\n",
       "</g>\n",
       "<g clip-path=\"url(#clip8800)\">\n",
       "<text style=\"fill:#000000; fill-opacity:1; font-family:Arial,Helvetica Neue,Helvetica,sans-serif; font-size:48px; text-anchor:end;\" transform=\"rotate(0, 503.267, 538.302)\" x=\"503.267\" y=\"538.302\">0.5</text>\n",
       "</g>\n",
       "<g clip-path=\"url(#clip8800)\">\n",
       "<text style=\"fill:#000000; fill-opacity:1; font-family:Arial,Helvetica Neue,Helvetica,sans-serif; font-size:48px; text-anchor:end;\" transform=\"rotate(0, 503.267, 283.745)\" x=\"503.267\" y=\"283.745\">1.0</text>\n",
       "</g>\n",
       "<polygon clip-path=\"url(#clip8802)\" points=\"\n",
       "1942.28,775.359 1940.1,707.921 1933.38,640.496 1921.71,573.232 1904.39,506.533 1880.6,441.173 1849.58,378.328 1810.86,319.494 1764.5,266.245 1711.25,219.886 \n",
       "  1652.41,181.159 1589.57,150.14 1524.21,126.355 1457.51,109.034 1390.25,97.3572 1322.82,90.6452 1255.38,88.4582 1187.94,90.6452 1120.52,97.3572 1053.25,109.034 \n",
       "  986.556,126.355 921.195,150.14 858.35,181.159 799.517,219.886 746.268,266.245 699.909,319.494 661.182,378.328 630.163,441.173 606.378,506.533 589.056,573.232 \n",
       "  577.38,640.496 570.668,707.921 568.481,775.359 570.668,842.798 577.38,910.222 589.056,977.487 606.378,1044.19 630.163,1109.55 661.182,1172.39 699.909,1231.22 \n",
       "  746.268,1284.47 799.517,1330.83 858.35,1369.56 921.195,1400.58 986.556,1424.36 1053.25,1441.69 1120.52,1453.36 1187.94,1460.07 1255.38,1462.26 1322.82,1460.07 \n",
       "  1390.25,1453.36 1457.51,1441.69 1524.21,1424.36 1589.57,1400.58 1652.41,1369.56 1711.25,1330.83 1764.5,1284.47 1810.86,1231.22 1849.58,1172.39 1880.6,1109.55 \n",
       "  1904.39,1044.19 1921.71,977.487 1933.38,910.222 1940.1,842.798 1942.28,775.359 \n",
       "  \" fill=\"#009af9\" fill-rule=\"evenodd\" fill-opacity=\"1\"/>\n",
       "<polyline clip-path=\"url(#clip8802)\" style=\"stroke:#000000; stroke-width:4; stroke-opacity:1; fill:none\" points=\"\n",
       "  1942.28,775.359 1940.1,707.921 1933.38,640.496 1921.71,573.232 1904.39,506.533 1880.6,441.173 1849.58,378.328 1810.86,319.494 1764.5,266.245 1711.25,219.886 \n",
       "  1652.41,181.159 1589.57,150.14 1524.21,126.355 1457.51,109.034 1390.25,97.3572 1322.82,90.6452 1255.38,88.4582 1187.94,90.6452 1120.52,97.3572 1053.25,109.034 \n",
       "  986.556,126.355 921.195,150.14 858.35,181.159 799.517,219.886 746.268,266.245 699.909,319.494 661.182,378.328 630.163,441.173 606.378,506.533 589.056,573.232 \n",
       "  577.38,640.496 570.668,707.921 568.481,775.359 570.668,842.798 577.38,910.222 589.056,977.487 606.378,1044.19 630.163,1109.55 661.182,1172.39 699.909,1231.22 \n",
       "  746.268,1284.47 799.517,1330.83 858.35,1369.56 921.195,1400.58 986.556,1424.36 1053.25,1441.69 1120.52,1453.36 1187.94,1460.07 1255.38,1462.26 1322.82,1460.07 \n",
       "  1390.25,1453.36 1457.51,1441.69 1524.21,1424.36 1589.57,1400.58 1652.41,1369.56 1711.25,1330.83 1764.5,1284.47 1810.86,1231.22 1849.58,1172.39 1880.6,1109.55 \n",
       "  1904.39,1044.19 1921.71,977.487 1933.38,910.222 1940.1,842.798 1942.28,775.359 \n",
       "  \"/>\n",
       "<polygon clip-path=\"url(#clip8802)\" points=\"\n",
       "746.268,266.245 1764.5,266.245 1764.5,1284.47 746.268,1284.47 746.268,266.245 746.268,266.245 \n",
       "  \" fill=\"#e26f46\" fill-rule=\"evenodd\" fill-opacity=\"1\"/>\n",
       "<polyline clip-path=\"url(#clip8802)\" style=\"stroke:#000000; stroke-width:4; stroke-opacity:1; fill:none\" points=\"\n",
       "  746.268,266.245 1764.5,266.245 1764.5,1284.47 746.268,1284.47 746.268,266.245 \n",
       "  \"/>\n",
       "<polygon clip-path=\"url(#clip8802)\" points=\"\n",
       "746.268,740.141 752.997,671.815 765.445,609.235 782.023,554.585 801.15,508.408 821.699,469.963 843.191,437.799 865.8,410.25 890.273,385.777 917.822,363.168 \n",
       "  949.986,341.677 988.431,321.128 1034.61,302 1089.26,285.423 1151.84,272.975 1220.16,266.245 1290.6,266.245 1358.93,272.975 1421.51,285.423 1476.16,302 \n",
       "  1522.33,321.128 1560.78,341.677 1592.94,363.168 1620.49,385.777 1644.96,410.25 1667.57,437.799 1689.06,469.963 1709.61,508.408 1728.74,554.585 1745.32,609.235 \n",
       "  1757.77,671.815 1764.5,740.141 1764.5,810.578 1757.77,878.904 1745.32,941.484 1728.74,996.133 1709.61,1042.31 1689.06,1080.76 1667.57,1112.92 1644.96,1140.47 \n",
       "  1620.49,1164.94 1592.94,1187.55 1560.78,1209.04 1522.33,1229.59 1476.16,1248.72 1421.51,1265.3 1358.93,1277.74 1290.6,1284.47 1220.16,1284.47 1151.84,1277.74 \n",
       "  1089.26,1265.3 1034.61,1248.72 988.431,1229.59 949.986,1209.04 917.822,1187.55 890.273,1164.94 865.8,1140.47 843.191,1112.92 821.699,1080.76 801.15,1042.31 \n",
       "  782.023,996.133 765.445,941.484 752.997,878.904 746.268,810.578 746.268,740.141 746.268,740.141 \n",
       "  \" fill=\"#3da44d\" fill-rule=\"evenodd\" fill-opacity=\"1\"/>\n",
       "<polyline clip-path=\"url(#clip8802)\" style=\"stroke:#000000; stroke-width:4; stroke-opacity:1; fill:none\" points=\"\n",
       "  746.268,740.141 752.997,671.815 765.445,609.235 782.023,554.585 801.15,508.408 821.699,469.963 843.191,437.799 865.8,410.25 890.273,385.777 917.822,363.168 \n",
       "  949.986,341.677 988.431,321.128 1034.61,302 1089.26,285.423 1151.84,272.975 1220.16,266.245 1290.6,266.245 1358.93,272.975 1421.51,285.423 1476.16,302 \n",
       "  1522.33,321.128 1560.78,341.677 1592.94,363.168 1620.49,385.777 1644.96,410.25 1667.57,437.799 1689.06,469.963 1709.61,508.408 1728.74,554.585 1745.32,609.235 \n",
       "  1757.77,671.815 1764.5,740.141 1764.5,810.578 1757.77,878.904 1745.32,941.484 1728.74,996.133 1709.61,1042.31 1689.06,1080.76 1667.57,1112.92 1644.96,1140.47 \n",
       "  1620.49,1164.94 1592.94,1187.55 1560.78,1209.04 1522.33,1229.59 1476.16,1248.72 1421.51,1265.3 1358.93,1277.74 1290.6,1284.47 1220.16,1284.47 1151.84,1277.74 \n",
       "  1089.26,1265.3 1034.61,1248.72 988.431,1229.59 949.986,1209.04 917.822,1187.55 890.273,1164.94 865.8,1140.47 843.191,1112.92 821.699,1080.76 801.15,1042.31 \n",
       "  782.023,996.133 765.445,941.484 752.997,878.904 746.268,810.578 746.268,740.141 \n",
       "  \"/>\n",
       "</svg>\n"
      ]
     },
     "execution_count": 10,
     "metadata": {},
     "output_type": "execute_result"
    }
   ],
   "source": [
    "using Plots\n",
    "plot(ratio=:equal)\n",
    "plot!(minimal_convex)\n",
    "#plot!(minimal_nonconvex)\n",
    "plot!(□)\n",
    "plot!(maximal_convex)"
   ]
  },
  {
   "cell_type": "code",
   "execution_count": null,
   "metadata": {
    "collapsed": true
   },
   "outputs": [],
   "source": []
  }
 ],
 "metadata": {
  "@webio": {
   "lastCommId": null,
   "lastKernelId": null
  },
  "kernelspec": {
   "display_name": "Julia 1.3.1",
   "language": "julia",
   "name": "julia-1.3"
  },
  "language_info": {
   "file_extension": ".jl",
   "mimetype": "application/julia",
   "name": "julia",
   "version": "1.3.1"
  }
 },
 "nbformat": 4,
 "nbformat_minor": 2
}
