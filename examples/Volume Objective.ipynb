{
 "cells": [
  {
   "cell_type": "code",
   "execution_count": 1,
   "metadata": {},
   "outputs": [
    {
     "name": "stdout",
     "output_type": "stream",
     "text": [
      "\u001b[32m\u001b[1m  Updating\u001b[22m\u001b[39m registry at `~/.julia/registries/General`\n",
      "\u001b[32m\u001b[1m  Updating\u001b[22m\u001b[39m git-repo `https://github.com/JuliaRegistries/General.git`\n",
      "\u001b[?25l\u001b[2K\u001b[?25h"
     ]
    }
   ],
   "source": [
    "import Pkg\n",
    "Pkg.activate(@__DIR__)\n",
    "Pkg.instantiate()"
   ]
  },
  {
   "cell_type": "markdown",
   "metadata": {},
   "source": [
    "In this notebook, we compute the maximal (resp. minimal) volume ellispoids and polynomial sublevel sets contained (containing) the square with vertices $(\\pm 1, \\pm 1)$. We start by defining the square with [Polyhedra](https://github.com/JuliaPolyhedra/Polyhedra.jl)."
   ]
  },
  {
   "cell_type": "code",
   "execution_count": 2,
   "metadata": {
    "collapsed": true
   },
   "outputs": [],
   "source": [
    "using Polyhedra\n",
    "h = HalfSpace([1, 0], 1.0) ∩ HalfSpace([-1, 0], 1) ∩ HalfSpace([0, 1], 1) ∩ HalfSpace([0, -1], 1)\n",
    "p = polyhedron(h);"
   ]
  },
  {
   "cell_type": "markdown",
   "metadata": {},
   "source": [
    "We need to pick an SDP solver, see [here](http://www.juliaopt.org/JuMP.jl/dev/installation/#Getting-Solvers-1) for a list of available ones. Run one of the following two cells to choose choose the solver."
   ]
  },
  {
   "cell_type": "code",
   "execution_count": null,
   "metadata": {
    "collapsed": true
   },
   "outputs": [],
   "source": [
    "using SCS\n",
    "using SetProg\n",
    "optimizer_constructor = optimizer_with_attributes(SCS.Optimizer, \"verbose\" => 0);"
   ]
  },
  {
   "cell_type": "code",
   "execution_count": null,
   "metadata": {
    "collapsed": true
   },
   "outputs": [],
   "source": [
    "using CSDP    # CSDP is less appropriate than SCS and Mosek because it does not natively support\n",
    "using SetProg # SOC constraints so they need to be bridged to SDP constraints.\n",
    "optimizer_constructor = optimizer_with_attributes(CSDP.Optimizer, \"printlevel\" => 0); # SOC constraints are needed for the nth_root"
   ]
  },
  {
   "cell_type": "code",
   "execution_count": 3,
   "metadata": {},
   "outputs": [],
   "source": [
    "using MosekTools\n",
    "using SetProg\n",
    "optimizer_constructor = optimizer_with_attributes(Mosek.Optimizer, \"QUIET\" => true);"
   ]
  },
  {
   "cell_type": "code",
   "execution_count": 4,
   "metadata": {},
   "outputs": [
    {
     "data": {
      "text/plain": [
       "support_function (generic function with 1 method)"
      ]
     },
     "execution_count": 4,
     "metadata": {},
     "output_type": "execute_result"
    }
   ],
   "source": [
    "using LinearAlgebra\n",
    "function support_function(set::SetProg.Sets.AbstractSet, direction)\n",
    "    model = Model(optimizer_constructor)\n",
    "    @variable(model, x[1:SetProg.Sets.dimension(set)])\n",
    "    @constraint(model, x in set)\n",
    "    @objective(model, Max, dot(direction, x))\n",
    "    JuMP.optimize!(model)\n",
    "    return JuMP.objective_value(model)\n",
    "end"
   ]
  },
  {
   "cell_type": "markdown",
   "metadata": {},
   "source": [
    "## John ellipsoid\n",
    "\n",
    "The maximal volume ellispoid contained in a convex body is called its John ellipsoid.\n",
    "The John ellipsoid for our square can be computed as follows."
   ]
  },
  {
   "cell_type": "code",
   "execution_count": 5,
   "metadata": {
    "scrolled": true
   },
   "outputs": [
    {
     "name": "stdout",
     "output_type": "stream",
     "text": [
      " 18.743919 seconds (67.59 M allocations: 3.452 GiB, 8.72% gc time)\n",
      "JuMP.termination_status(model) = OPTIMAL::TerminationStatusCode = 1\n",
      "JuMP.objective_value(model) = 1.0000000054702731\n"
     ]
    }
   ],
   "source": [
    "model = Model(optimizer_constructor);\n",
    "@variable(model, john, Ellipsoid(symmetric=true, dimension = 2))\n",
    "cref = @constraint(model, john ⊆ p)\n",
    "@objective(model, Max, nth_root(volume(john)))\n",
    "@time JuMP.optimize!(model)\n",
    "@show JuMP.termination_status(model)\n",
    "@show JuMP.objective_value(model);"
   ]
  },
  {
   "cell_type": "code",
   "execution_count": 6,
   "metadata": {},
   "outputs": [
    {
     "data": {
      "text/plain": [
       "1.414213550721004"
      ]
     },
     "execution_count": 6,
     "metadata": {},
     "output_type": "execute_result"
    }
   ],
   "source": [
    "support_function(JuMP.value(john), [1, 1])"
   ]
  },
  {
   "cell_type": "markdown",
   "metadata": {},
   "source": [
    "## Löwner ellipsoid\n",
    "\n",
    "The minimal volume ellispoid contained in a convex body is called its Löwner ellipsoid.\n",
    "The Löwner ellipsoid for our square can be computed as follows."
   ]
  },
  {
   "cell_type": "code",
   "execution_count": 7,
   "metadata": {},
   "outputs": [
    {
     "name": "stdout",
     "output_type": "stream",
     "text": [
      "  9.349817 seconds (58.19 M allocations: 3.028 GiB, 11.67% gc time)\n",
      "JuMP.termination_status(model) = OPTIMAL::TerminationStatusCode = 1\n",
      "JuMP.objective_value(model) = 0.5000000005820153\n"
     ]
    }
   ],
   "source": [
    "model = Model(optimizer_constructor);\n",
    "@variable(model, löwner, Ellipsoid(symmetric=true, dimension = 2))\n",
    "cref = @constraint(model, p ⊆ löwner)\n",
    "@objective(model, Min, nth_root(volume(löwner)))\n",
    "@time JuMP.optimize!(model)\n",
    "@show JuMP.termination_status(model)\n",
    "@show JuMP.objective_value(model);"
   ]
  },
  {
   "cell_type": "code",
   "execution_count": 8,
   "metadata": {},
   "outputs": [
    {
     "data": {
      "text/plain": [
       "2.0000000001323457"
      ]
     },
     "execution_count": 8,
     "metadata": {},
     "output_type": "execute_result"
    }
   ],
   "source": [
    "support_function(JuMP.value(löwner), [1, 1])"
   ]
  },
  {
   "cell_type": "markdown",
   "metadata": {},
   "source": [
    "We can visualize the Löwner and John ellispoids as follows."
   ]
  },
  {
   "cell_type": "code",
   "execution_count": 9,
   "metadata": {},
   "outputs": [
    {
     "data": {
      "image/svg+xml": [
       "<?xml version=\"1.0\" encoding=\"utf-8\"?>\n",
       "<svg xmlns=\"http://www.w3.org/2000/svg\" xmlns:xlink=\"http://www.w3.org/1999/xlink\" width=\"600\" height=\"400\" viewBox=\"0 0 2400 1600\">\n",
       "<defs>\n",
       "  <clipPath id=\"clip9900\">\n",
       "    <rect x=\"0\" y=\"0\" width=\"2400\" height=\"1600\"/>\n",
       "  </clipPath>\n",
       "</defs>\n",
       "<polygon clip-path=\"url(#clip9900)\" points=\"\n",
       "0,1600 2400,1600 2400,0 0,0 \n",
       "  \" fill=\"#ffffff\" fill-rule=\"evenodd\" fill-opacity=\"1\"/>\n",
       "<defs>\n",
       "  <clipPath id=\"clip9901\">\n",
       "    <rect x=\"480\" y=\"0\" width=\"1681\" height=\"1600\"/>\n",
       "  </clipPath>\n",
       "</defs>\n",
       "<polygon clip-path=\"url(#clip9900)\" points=\"\n",
       "527.267,1503.47 1983.5,1503.47 1983.5,47.2441 527.267,47.2441 \n",
       "  \" fill=\"#ffffff\" fill-rule=\"evenodd\" fill-opacity=\"1\"/>\n",
       "<defs>\n",
       "  <clipPath id=\"clip9902\">\n",
       "    <rect x=\"527\" y=\"47\" width=\"1457\" height=\"1457\"/>\n",
       "  </clipPath>\n",
       "</defs>\n",
       "<polyline clip-path=\"url(#clip9902)\" style=\"stroke:#000000; stroke-width:2; stroke-opacity:0.1; fill:none\" points=\"\n",
       "  769.669,1503.47 769.669,47.2441 \n",
       "  \"/>\n",
       "<polyline clip-path=\"url(#clip9902)\" style=\"stroke:#000000; stroke-width:2; stroke-opacity:0.1; fill:none\" points=\"\n",
       "  1012.53,1503.47 1012.53,47.2441 \n",
       "  \"/>\n",
       "<polyline clip-path=\"url(#clip9902)\" style=\"stroke:#000000; stroke-width:2; stroke-opacity:0.1; fill:none\" points=\"\n",
       "  1255.38,1503.47 1255.38,47.2441 \n",
       "  \"/>\n",
       "<polyline clip-path=\"url(#clip9902)\" style=\"stroke:#000000; stroke-width:2; stroke-opacity:0.1; fill:none\" points=\"\n",
       "  1498.24,1503.47 1498.24,47.2441 \n",
       "  \"/>\n",
       "<polyline clip-path=\"url(#clip9902)\" style=\"stroke:#000000; stroke-width:2; stroke-opacity:0.1; fill:none\" points=\"\n",
       "  1741.09,1503.47 1741.09,47.2441 \n",
       "  \"/>\n",
       "<polyline clip-path=\"url(#clip9902)\" style=\"stroke:#000000; stroke-width:2; stroke-opacity:0.1; fill:none\" points=\"\n",
       "  527.267,1261.07 1983.5,1261.07 \n",
       "  \"/>\n",
       "<polyline clip-path=\"url(#clip9902)\" style=\"stroke:#000000; stroke-width:2; stroke-opacity:0.1; fill:none\" points=\"\n",
       "  527.267,1018.22 1983.5,1018.22 \n",
       "  \"/>\n",
       "<polyline clip-path=\"url(#clip9902)\" style=\"stroke:#000000; stroke-width:2; stroke-opacity:0.1; fill:none\" points=\"\n",
       "  527.267,775.359 1983.5,775.359 \n",
       "  \"/>\n",
       "<polyline clip-path=\"url(#clip9902)\" style=\"stroke:#000000; stroke-width:2; stroke-opacity:0.1; fill:none\" points=\"\n",
       "  527.267,532.503 1983.5,532.503 \n",
       "  \"/>\n",
       "<polyline clip-path=\"url(#clip9902)\" style=\"stroke:#000000; stroke-width:2; stroke-opacity:0.1; fill:none\" points=\"\n",
       "  527.267,289.647 1983.5,289.647 \n",
       "  \"/>\n",
       "<polyline clip-path=\"url(#clip9900)\" style=\"stroke:#000000; stroke-width:4; stroke-opacity:1; fill:none\" points=\"\n",
       "  527.267,1503.47 1983.5,1503.47 \n",
       "  \"/>\n",
       "<polyline clip-path=\"url(#clip9900)\" style=\"stroke:#000000; stroke-width:4; stroke-opacity:1; fill:none\" points=\"\n",
       "  527.267,1503.47 527.267,47.2441 \n",
       "  \"/>\n",
       "<polyline clip-path=\"url(#clip9900)\" style=\"stroke:#000000; stroke-width:4; stroke-opacity:1; fill:none\" points=\"\n",
       "  769.669,1503.47 769.669,1481.63 \n",
       "  \"/>\n",
       "<polyline clip-path=\"url(#clip9900)\" style=\"stroke:#000000; stroke-width:4; stroke-opacity:1; fill:none\" points=\"\n",
       "  1012.53,1503.47 1012.53,1481.63 \n",
       "  \"/>\n",
       "<polyline clip-path=\"url(#clip9900)\" style=\"stroke:#000000; stroke-width:4; stroke-opacity:1; fill:none\" points=\"\n",
       "  1255.38,1503.47 1255.38,1481.63 \n",
       "  \"/>\n",
       "<polyline clip-path=\"url(#clip9900)\" style=\"stroke:#000000; stroke-width:4; stroke-opacity:1; fill:none\" points=\"\n",
       "  1498.24,1503.47 1498.24,1481.63 \n",
       "  \"/>\n",
       "<polyline clip-path=\"url(#clip9900)\" style=\"stroke:#000000; stroke-width:4; stroke-opacity:1; fill:none\" points=\"\n",
       "  1741.09,1503.47 1741.09,1481.63 \n",
       "  \"/>\n",
       "<polyline clip-path=\"url(#clip9900)\" style=\"stroke:#000000; stroke-width:4; stroke-opacity:1; fill:none\" points=\"\n",
       "  527.267,1261.07 549.11,1261.07 \n",
       "  \"/>\n",
       "<polyline clip-path=\"url(#clip9900)\" style=\"stroke:#000000; stroke-width:4; stroke-opacity:1; fill:none\" points=\"\n",
       "  527.267,1018.22 549.11,1018.22 \n",
       "  \"/>\n",
       "<polyline clip-path=\"url(#clip9900)\" style=\"stroke:#000000; stroke-width:4; stroke-opacity:1; fill:none\" points=\"\n",
       "  527.267,775.359 549.11,775.359 \n",
       "  \"/>\n",
       "<polyline clip-path=\"url(#clip9900)\" style=\"stroke:#000000; stroke-width:4; stroke-opacity:1; fill:none\" points=\"\n",
       "  527.267,532.503 549.11,532.503 \n",
       "  \"/>\n",
       "<polyline clip-path=\"url(#clip9900)\" style=\"stroke:#000000; stroke-width:4; stroke-opacity:1; fill:none\" points=\"\n",
       "  527.267,289.647 549.11,289.647 \n",
       "  \"/>\n",
       "<g clip-path=\"url(#clip9900)\">\n",
       "<text style=\"fill:#000000; fill-opacity:1; font-family:Arial,Helvetica Neue,Helvetica,sans-serif; font-size:48px; text-anchor:middle;\" transform=\"rotate(0, 769.669, 1557.47)\" x=\"769.669\" y=\"1557.47\">-1.0</text>\n",
       "</g>\n",
       "<g clip-path=\"url(#clip9900)\">\n",
       "<text style=\"fill:#000000; fill-opacity:1; font-family:Arial,Helvetica Neue,Helvetica,sans-serif; font-size:48px; text-anchor:middle;\" transform=\"rotate(0, 1012.53, 1557.47)\" x=\"1012.53\" y=\"1557.47\">-0.5</text>\n",
       "</g>\n",
       "<g clip-path=\"url(#clip9900)\">\n",
       "<text style=\"fill:#000000; fill-opacity:1; font-family:Arial,Helvetica Neue,Helvetica,sans-serif; font-size:48px; text-anchor:middle;\" transform=\"rotate(0, 1255.38, 1557.47)\" x=\"1255.38\" y=\"1557.47\">0.0</text>\n",
       "</g>\n",
       "<g clip-path=\"url(#clip9900)\">\n",
       "<text style=\"fill:#000000; fill-opacity:1; font-family:Arial,Helvetica Neue,Helvetica,sans-serif; font-size:48px; text-anchor:middle;\" transform=\"rotate(0, 1498.24, 1557.47)\" x=\"1498.24\" y=\"1557.47\">0.5</text>\n",
       "</g>\n",
       "<g clip-path=\"url(#clip9900)\">\n",
       "<text style=\"fill:#000000; fill-opacity:1; font-family:Arial,Helvetica Neue,Helvetica,sans-serif; font-size:48px; text-anchor:middle;\" transform=\"rotate(0, 1741.09, 1557.47)\" x=\"1741.09\" y=\"1557.47\">1.0</text>\n",
       "</g>\n",
       "<g clip-path=\"url(#clip9900)\">\n",
       "<text style=\"fill:#000000; fill-opacity:1; font-family:Arial,Helvetica Neue,Helvetica,sans-serif; font-size:48px; text-anchor:end;\" transform=\"rotate(0, 503.267, 1278.57)\" x=\"503.267\" y=\"1278.57\">-1.0</text>\n",
       "</g>\n",
       "<g clip-path=\"url(#clip9900)\">\n",
       "<text style=\"fill:#000000; fill-opacity:1; font-family:Arial,Helvetica Neue,Helvetica,sans-serif; font-size:48px; text-anchor:end;\" transform=\"rotate(0, 503.267, 1035.72)\" x=\"503.267\" y=\"1035.72\">-0.5</text>\n",
       "</g>\n",
       "<g clip-path=\"url(#clip9900)\">\n",
       "<text style=\"fill:#000000; fill-opacity:1; font-family:Arial,Helvetica Neue,Helvetica,sans-serif; font-size:48px; text-anchor:end;\" transform=\"rotate(0, 503.267, 792.859)\" x=\"503.267\" y=\"792.859\">0.0</text>\n",
       "</g>\n",
       "<g clip-path=\"url(#clip9900)\">\n",
       "<text style=\"fill:#000000; fill-opacity:1; font-family:Arial,Helvetica Neue,Helvetica,sans-serif; font-size:48px; text-anchor:end;\" transform=\"rotate(0, 503.267, 550.003)\" x=\"503.267\" y=\"550.003\">0.5</text>\n",
       "</g>\n",
       "<g clip-path=\"url(#clip9900)\">\n",
       "<text style=\"fill:#000000; fill-opacity:1; font-family:Arial,Helvetica Neue,Helvetica,sans-serif; font-size:48px; text-anchor:end;\" transform=\"rotate(0, 503.267, 307.147)\" x=\"503.267\" y=\"307.147\">1.0</text>\n",
       "</g>\n",
       "<polygon clip-path=\"url(#clip9902)\" points=\"\n",
       "1942.28,775.359 1938.98,708.031 1929.08,641.352 1912.71,575.963 1890,512.494 1861.17,451.556 1826.52,393.738 1786.36,339.594 1741.09,289.647 1691.15,244.378 \n",
       "  1637,204.222 1579.18,169.567 1518.25,140.745 1454.78,118.036 1389.39,101.657 1322.71,91.7658 1255.38,88.4582 1188.05,91.7658 1121.37,101.657 1055.99,118.036 \n",
       "  992.516,140.745 931.579,169.567 873.76,204.222 819.616,244.378 769.669,289.647 724.4,339.594 684.244,393.738 649.589,451.556 620.768,512.494 598.058,575.963 \n",
       "  581.679,641.352 571.788,708.031 568.481,775.359 571.788,842.688 581.679,909.367 598.058,974.756 620.768,1038.23 649.589,1099.16 684.244,1156.98 724.4,1211.12 \n",
       "  769.669,1261.07 819.616,1306.34 873.76,1346.5 931.579,1381.15 992.516,1409.97 1055.99,1432.68 1121.37,1449.06 1188.05,1458.95 1255.38,1462.26 1322.71,1458.95 \n",
       "  1389.39,1449.06 1454.78,1432.68 1518.25,1409.97 1579.18,1381.15 1637,1346.5 1691.15,1306.34 1741.09,1261.07 1786.36,1211.12 1826.52,1156.98 1861.17,1099.16 \n",
       "  1890,1038.23 1912.71,974.756 1929.08,909.367 1938.98,842.688 1942.28,775.359 \n",
       "  \" fill=\"#009af9\" fill-rule=\"evenodd\" fill-opacity=\"1\"/>\n",
       "<polyline clip-path=\"url(#clip9902)\" style=\"stroke:#000000; stroke-width:4; stroke-opacity:1; fill:none\" points=\"\n",
       "  1942.28,775.359 1938.98,708.031 1929.08,641.352 1912.71,575.963 1890,512.494 1861.17,451.556 1826.52,393.738 1786.36,339.594 1741.09,289.647 1691.15,244.378 \n",
       "  1637,204.222 1579.18,169.567 1518.25,140.745 1454.78,118.036 1389.39,101.657 1322.71,91.7658 1255.38,88.4582 1188.05,91.7658 1121.37,101.657 1055.99,118.036 \n",
       "  992.516,140.745 931.579,169.567 873.76,204.222 819.616,244.378 769.669,289.647 724.4,339.594 684.244,393.738 649.589,451.556 620.768,512.494 598.058,575.963 \n",
       "  581.679,641.352 571.788,708.031 568.481,775.359 571.788,842.688 581.679,909.367 598.058,974.756 620.768,1038.23 649.589,1099.16 684.244,1156.98 724.4,1211.12 \n",
       "  769.669,1261.07 819.616,1306.34 873.76,1346.5 931.579,1381.15 992.516,1409.97 1055.99,1432.68 1121.37,1449.06 1188.05,1458.95 1255.38,1462.26 1322.71,1458.95 \n",
       "  1389.39,1449.06 1454.78,1432.68 1518.25,1409.97 1579.18,1381.15 1637,1346.5 1691.15,1306.34 1741.09,1261.07 1786.36,1211.12 1826.52,1156.98 1861.17,1099.16 \n",
       "  1890,1038.23 1912.71,974.756 1929.08,909.367 1938.98,842.688 1942.28,775.359 \n",
       "  \"/>\n",
       "<polygon clip-path=\"url(#clip9902)\" points=\"\n",
       "769.669,289.647 1741.09,289.647 1741.09,1261.07 769.669,1261.07 769.669,289.647 769.669,289.647 \n",
       "  \" fill=\"#e26f46\" fill-rule=\"evenodd\" fill-opacity=\"1\"/>\n",
       "<polyline clip-path=\"url(#clip9902)\" style=\"stroke:#000000; stroke-width:4; stroke-opacity:1; fill:none\" points=\"\n",
       "  769.669,289.647 1741.09,289.647 1741.09,1261.07 769.669,1261.07 769.669,289.647 \n",
       "  \"/>\n",
       "<polygon clip-path=\"url(#clip9902)\" points=\"\n",
       "1741.09,775.359 1738.76,727.751 1731.76,680.602 1720.18,634.365 1704.12,589.485 1683.74,546.396 1659.24,505.512 1630.84,467.227 1598.83,431.909 1563.51,399.899 \n",
       "  1525.23,371.504 1484.35,346.999 1441.26,326.62 1396.38,310.562 1350.14,298.98 1302.99,291.986 1255.38,289.647 1207.77,291.986 1160.62,298.98 1114.39,310.562 \n",
       "  1069.51,326.62 1026.42,346.999 985.535,371.504 947.249,399.899 911.931,431.909 879.921,467.227 851.527,505.512 827.022,546.396 806.642,589.485 790.584,634.365 \n",
       "  779.002,680.602 772.008,727.751 769.669,775.359 772.008,822.968 779.002,870.117 790.584,916.354 806.642,961.234 827.022,1004.32 851.527,1045.21 879.921,1083.49 \n",
       "  911.931,1118.81 947.249,1150.82 985.535,1179.21 1026.42,1203.72 1069.51,1224.1 1114.39,1240.16 1160.62,1251.74 1207.77,1258.73 1255.38,1261.07 1302.99,1258.73 \n",
       "  1350.14,1251.74 1396.38,1240.16 1441.26,1224.1 1484.35,1203.72 1525.23,1179.21 1563.51,1150.82 1598.83,1118.81 1630.84,1083.49 1659.24,1045.21 1683.74,1004.32 \n",
       "  1704.12,961.234 1720.18,916.354 1731.76,870.117 1738.76,822.968 1741.09,775.359 \n",
       "  \" fill=\"#3da44d\" fill-rule=\"evenodd\" fill-opacity=\"1\"/>\n",
       "<polyline clip-path=\"url(#clip9902)\" style=\"stroke:#000000; stroke-width:4; stroke-opacity:1; fill:none\" points=\"\n",
       "  1741.09,775.359 1738.76,727.751 1731.76,680.602 1720.18,634.365 1704.12,589.485 1683.74,546.396 1659.24,505.512 1630.84,467.227 1598.83,431.909 1563.51,399.899 \n",
       "  1525.23,371.504 1484.35,346.999 1441.26,326.62 1396.38,310.562 1350.14,298.98 1302.99,291.986 1255.38,289.647 1207.77,291.986 1160.62,298.98 1114.39,310.562 \n",
       "  1069.51,326.62 1026.42,346.999 985.535,371.504 947.249,399.899 911.931,431.909 879.921,467.227 851.527,505.512 827.022,546.396 806.642,589.485 790.584,634.365 \n",
       "  779.002,680.602 772.008,727.751 769.669,775.359 772.008,822.968 779.002,870.117 790.584,916.354 806.642,961.234 827.022,1004.32 851.527,1045.21 879.921,1083.49 \n",
       "  911.931,1118.81 947.249,1150.82 985.535,1179.21 1026.42,1203.72 1069.51,1224.1 1114.39,1240.16 1160.62,1251.74 1207.77,1258.73 1255.38,1261.07 1302.99,1258.73 \n",
       "  1350.14,1251.74 1396.38,1240.16 1441.26,1224.1 1484.35,1203.72 1525.23,1179.21 1563.51,1150.82 1598.83,1118.81 1630.84,1083.49 1659.24,1045.21 1683.74,1004.32 \n",
       "  1704.12,961.234 1720.18,916.354 1731.76,870.117 1738.76,822.968 1741.09,775.359 \n",
       "  \"/>\n",
       "</svg>\n"
      ]
     },
     "execution_count": 9,
     "metadata": {},
     "output_type": "execute_result"
    }
   ],
   "source": [
    "using Plots\n",
    "plot(ratio=:equal)\n",
    "plot!(JuMP.value(löwner))\n",
    "plot!(p)\n",
    "plot!(JuMP.value(john))"
   ]
  },
  {
   "cell_type": "markdown",
   "metadata": {
    "collapsed": true
   },
   "source": [
    "## Higher degree polynomials\n",
    "\n",
    "Ellispoids are the sublevel sets of positive definite *quadratic* forms.\n",
    "To allow for more sophisticated shapes, we could instead look for sublevel sets of *quartic* forms.\n",
    "For this, we simply need to replace `Ellipsoid(dimension=2)` by `PolySet(degree=4, dimension=2)`.\n",
    "Note that the volumes optimized are not exactly the volume anymore but provide a reasonable heuristic.\n",
    "\n",
    "### Maximal volume quartic sublevel set contained in the square"
   ]
  },
  {
   "cell_type": "code",
   "execution_count": 10,
   "metadata": {},
   "outputs": [
    {
     "name": "stdout",
     "output_type": "stream",
     "text": [
      "  8.738291 seconds (22.19 M allocations: 1.088 GiB, 7.89% gc time)\n",
      "JuMP.termination_status(model) = OPTIMAL::TerminationStatusCode = 1\n",
      "JuMP.objective_value(model) = 6.447419338712412\n"
     ]
    }
   ],
   "source": [
    "model = Model(optimizer_constructor);\n",
    "@variable(model, quartic_inner, PolySet(degree = 4, symmetric = true, convex = true))\n",
    "cref = @constraint(model, quartic_inner ⊆ p)\n",
    "@objective(model, Max, nth_root(volume(quartic_inner)))\n",
    "@time JuMP.optimize!(model)\n",
    "@show JuMP.termination_status(model)\n",
    "@show JuMP.objective_value(model);"
   ]
  },
  {
   "cell_type": "code",
   "execution_count": 11,
   "metadata": {},
   "outputs": [
    {
     "data": {
      "text/plain": [
       "1.4823584095346904"
      ]
     },
     "execution_count": 11,
     "metadata": {},
     "output_type": "execute_result"
    }
   ],
   "source": [
    "support_function(JuMP.value(quartic_inner), [1, 1])"
   ]
  },
  {
   "cell_type": "code",
   "execution_count": 12,
   "metadata": {},
   "outputs": [
    {
     "name": "stdout",
     "output_type": "stream",
     "text": [
      "  0.275821 seconds (628.05 k allocations: 31.005 MiB, 21.85% gc time)\n",
      "JuMP.termination_status(model) = OPTIMAL::TerminationStatusCode = 1\n",
      "JuMP.objective_value(model) = 4.26666666260044\n"
     ]
    }
   ],
   "source": [
    "model = Model(optimizer_constructor);\n",
    "@variable(model, quartic_inner, PolySet(degree = 4, symmetric = true, convex = true, point=SetProg.InteriorPoint([0.0, 0.0])))\n",
    "cref = @constraint(model, quartic_inner ⊆ p)\n",
    "@objective(model, Max, L1_heuristic(volume(quartic_inner), [1.0, 1.0]))\n",
    "@time JuMP.optimize!(model)\n",
    "@show JuMP.termination_status(model)\n",
    "@show JuMP.objective_value(model);"
   ]
  },
  {
   "cell_type": "markdown",
   "metadata": {},
   "source": [
    "### Minimal volume quartic sublevel set containing the square"
   ]
  },
  {
   "cell_type": "code",
   "execution_count": 13,
   "metadata": {},
   "outputs": [
    {
     "name": "stdout",
     "output_type": "stream",
     "text": [
      "  0.121602 seconds (203.87 k allocations: 10.495 MiB)\n",
      "JuMP.termination_status(model) = OPTIMAL::TerminationStatusCode = 1\n",
      "JuMP.objective_value(model) = 1.6118548821006446\n"
     ]
    }
   ],
   "source": [
    "model = Model(optimizer_constructor);\n",
    "@variable(model, quartic_outer, PolySet(symmetric=true, degree = 4, convex=true))\n",
    "cref = @constraint(model, p ⊆ quartic_outer)\n",
    "@objective(model, Min, nth_root(volume(quartic_outer)))\n",
    "@time JuMP.optimize!(model)\n",
    "@show JuMP.termination_status(model)\n",
    "@show JuMP.objective_value(model);"
   ]
  },
  {
   "cell_type": "code",
   "execution_count": 14,
   "metadata": {},
   "outputs": [
    {
     "data": {
      "text/plain": [
       "1.999999986579064"
      ]
     },
     "execution_count": 14,
     "metadata": {},
     "output_type": "execute_result"
    }
   ],
   "source": [
    "support_function(JuMP.value(quartic_outer), [1, 1])"
   ]
  },
  {
   "cell_type": "markdown",
   "metadata": {},
   "source": [
    "We can visualize the quartic sublevel sets as follows."
   ]
  },
  {
   "cell_type": "code",
   "execution_count": 15,
   "metadata": {},
   "outputs": [
    {
     "ename": "ErrorException",
     "evalue": "type Polar has no field p",
     "output_type": "error",
     "traceback": [
      "type Polar has no field p",
      "",
      "Stacktrace:",
      " [1] top-level scope at In[15]:1"
     ]
    }
   ],
   "source": [
    "SetProg.polynomial(JuMP.value(quartic_inner).p)"
   ]
  },
  {
   "cell_type": "code",
   "execution_count": 16,
   "metadata": {},
   "outputs": [
    {
     "data": {
      "text/latex": [
       "$$ 0.30177297950529897x_{1}^{4} + 1.6546876107131807e-15x_{1}^{3}x_{2} + 0.3964499829468738x_{1}^{2}x_{2}^{2} + 2.8451657465113703e-15x_{1}x_{2}^{3} + 0.30177703542516215x_{2}^{4} $$"
      ],
      "text/plain": [
       "0.30177297950529897x₁⁴ + 1.6546876107131807e-15x₁³x₂ + 0.3964499829468738x₁²x₂² + 2.8451657465113703e-15x₁x₂³ + 0.30177703542516215x₂⁴"
      ]
     },
     "execution_count": 16,
     "metadata": {},
     "output_type": "execute_result"
    }
   ],
   "source": [
    "SetProg.polynomial(JuMP.value(quartic_outer).p)"
   ]
  },
  {
   "cell_type": "code",
   "execution_count": 17,
   "metadata": {},
   "outputs": [
    {
     "data": {
      "image/svg+xml": [
       "<?xml version=\"1.0\" encoding=\"utf-8\"?>\n",
       "<svg xmlns=\"http://www.w3.org/2000/svg\" xmlns:xlink=\"http://www.w3.org/1999/xlink\" width=\"600\" height=\"400\" viewBox=\"0 0 2400 1600\">\n",
       "<defs>\n",
       "  <clipPath id=\"clip0300\">\n",
       "    <rect x=\"0\" y=\"0\" width=\"2400\" height=\"1600\"/>\n",
       "  </clipPath>\n",
       "</defs>\n",
       "<polygon clip-path=\"url(#clip0300)\" points=\"\n",
       "0,1600 2400,1600 2400,0 0,0 \n",
       "  \" fill=\"#ffffff\" fill-rule=\"evenodd\" fill-opacity=\"1\"/>\n",
       "<defs>\n",
       "  <clipPath id=\"clip0301\">\n",
       "    <rect x=\"480\" y=\"0\" width=\"1681\" height=\"1600\"/>\n",
       "  </clipPath>\n",
       "</defs>\n",
       "<polygon clip-path=\"url(#clip0300)\" points=\"\n",
       "527.264,1503.47 1983.5,1503.47 1983.5,47.2441 527.264,47.2441 \n",
       "  \" fill=\"#ffffff\" fill-rule=\"evenodd\" fill-opacity=\"1\"/>\n",
       "<defs>\n",
       "  <clipPath id=\"clip0302\">\n",
       "    <rect x=\"527\" y=\"47\" width=\"1457\" height=\"1457\"/>\n",
       "  </clipPath>\n",
       "</defs>\n",
       "<polyline clip-path=\"url(#clip0302)\" style=\"stroke:#000000; stroke-width:2; stroke-opacity:0.1; fill:none\" points=\"\n",
       "  746.267,1503.47 746.267,47.2441 \n",
       "  \"/>\n",
       "<polyline clip-path=\"url(#clip0302)\" style=\"stroke:#000000; stroke-width:2; stroke-opacity:0.1; fill:none\" points=\"\n",
       "  1000.82,1503.47 1000.82,47.2441 \n",
       "  \"/>\n",
       "<polyline clip-path=\"url(#clip0302)\" style=\"stroke:#000000; stroke-width:2; stroke-opacity:0.1; fill:none\" points=\"\n",
       "  1255.38,1503.47 1255.38,47.2441 \n",
       "  \"/>\n",
       "<polyline clip-path=\"url(#clip0302)\" style=\"stroke:#000000; stroke-width:2; stroke-opacity:0.1; fill:none\" points=\"\n",
       "  1509.94,1503.47 1509.94,47.2441 \n",
       "  \"/>\n",
       "<polyline clip-path=\"url(#clip0302)\" style=\"stroke:#000000; stroke-width:2; stroke-opacity:0.1; fill:none\" points=\"\n",
       "  1764.5,1503.47 1764.5,47.2441 \n",
       "  \"/>\n",
       "<polyline clip-path=\"url(#clip0302)\" style=\"stroke:#000000; stroke-width:2; stroke-opacity:0.1; fill:none\" points=\"\n",
       "  527.264,1284.47 1983.5,1284.47 \n",
       "  \"/>\n",
       "<polyline clip-path=\"url(#clip0302)\" style=\"stroke:#000000; stroke-width:2; stroke-opacity:0.1; fill:none\" points=\"\n",
       "  527.264,1029.92 1983.5,1029.92 \n",
       "  \"/>\n",
       "<polyline clip-path=\"url(#clip0302)\" style=\"stroke:#000000; stroke-width:2; stroke-opacity:0.1; fill:none\" points=\"\n",
       "  527.264,775.359 1983.5,775.359 \n",
       "  \"/>\n",
       "<polyline clip-path=\"url(#clip0302)\" style=\"stroke:#000000; stroke-width:2; stroke-opacity:0.1; fill:none\" points=\"\n",
       "  527.264,520.802 1983.5,520.802 \n",
       "  \"/>\n",
       "<polyline clip-path=\"url(#clip0302)\" style=\"stroke:#000000; stroke-width:2; stroke-opacity:0.1; fill:none\" points=\"\n",
       "  527.264,266.244 1983.5,266.244 \n",
       "  \"/>\n",
       "<polyline clip-path=\"url(#clip0300)\" style=\"stroke:#000000; stroke-width:4; stroke-opacity:1; fill:none\" points=\"\n",
       "  527.264,1503.47 1983.5,1503.47 \n",
       "  \"/>\n",
       "<polyline clip-path=\"url(#clip0300)\" style=\"stroke:#000000; stroke-width:4; stroke-opacity:1; fill:none\" points=\"\n",
       "  527.264,1503.47 527.264,47.2441 \n",
       "  \"/>\n",
       "<polyline clip-path=\"url(#clip0300)\" style=\"stroke:#000000; stroke-width:4; stroke-opacity:1; fill:none\" points=\"\n",
       "  746.267,1503.47 746.267,1481.63 \n",
       "  \"/>\n",
       "<polyline clip-path=\"url(#clip0300)\" style=\"stroke:#000000; stroke-width:4; stroke-opacity:1; fill:none\" points=\"\n",
       "  1000.82,1503.47 1000.82,1481.63 \n",
       "  \"/>\n",
       "<polyline clip-path=\"url(#clip0300)\" style=\"stroke:#000000; stroke-width:4; stroke-opacity:1; fill:none\" points=\"\n",
       "  1255.38,1503.47 1255.38,1481.63 \n",
       "  \"/>\n",
       "<polyline clip-path=\"url(#clip0300)\" style=\"stroke:#000000; stroke-width:4; stroke-opacity:1; fill:none\" points=\"\n",
       "  1509.94,1503.47 1509.94,1481.63 \n",
       "  \"/>\n",
       "<polyline clip-path=\"url(#clip0300)\" style=\"stroke:#000000; stroke-width:4; stroke-opacity:1; fill:none\" points=\"\n",
       "  1764.5,1503.47 1764.5,1481.63 \n",
       "  \"/>\n",
       "<polyline clip-path=\"url(#clip0300)\" style=\"stroke:#000000; stroke-width:4; stroke-opacity:1; fill:none\" points=\"\n",
       "  527.264,1284.47 549.108,1284.47 \n",
       "  \"/>\n",
       "<polyline clip-path=\"url(#clip0300)\" style=\"stroke:#000000; stroke-width:4; stroke-opacity:1; fill:none\" points=\"\n",
       "  527.264,1029.92 549.108,1029.92 \n",
       "  \"/>\n",
       "<polyline clip-path=\"url(#clip0300)\" style=\"stroke:#000000; stroke-width:4; stroke-opacity:1; fill:none\" points=\"\n",
       "  527.264,775.359 549.108,775.359 \n",
       "  \"/>\n",
       "<polyline clip-path=\"url(#clip0300)\" style=\"stroke:#000000; stroke-width:4; stroke-opacity:1; fill:none\" points=\"\n",
       "  527.264,520.802 549.108,520.802 \n",
       "  \"/>\n",
       "<polyline clip-path=\"url(#clip0300)\" style=\"stroke:#000000; stroke-width:4; stroke-opacity:1; fill:none\" points=\"\n",
       "  527.264,266.244 549.108,266.244 \n",
       "  \"/>\n",
       "<g clip-path=\"url(#clip0300)\">\n",
       "<text style=\"fill:#000000; fill-opacity:1; font-family:Arial,Helvetica Neue,Helvetica,sans-serif; font-size:48px; text-anchor:middle;\" transform=\"rotate(0, 746.267, 1557.47)\" x=\"746.267\" y=\"1557.47\">-1.0</text>\n",
       "</g>\n",
       "<g clip-path=\"url(#clip0300)\">\n",
       "<text style=\"fill:#000000; fill-opacity:1; font-family:Arial,Helvetica Neue,Helvetica,sans-serif; font-size:48px; text-anchor:middle;\" transform=\"rotate(0, 1000.82, 1557.47)\" x=\"1000.82\" y=\"1557.47\">-0.5</text>\n",
       "</g>\n",
       "<g clip-path=\"url(#clip0300)\">\n",
       "<text style=\"fill:#000000; fill-opacity:1; font-family:Arial,Helvetica Neue,Helvetica,sans-serif; font-size:48px; text-anchor:middle;\" transform=\"rotate(0, 1255.38, 1557.47)\" x=\"1255.38\" y=\"1557.47\">0.0</text>\n",
       "</g>\n",
       "<g clip-path=\"url(#clip0300)\">\n",
       "<text style=\"fill:#000000; fill-opacity:1; font-family:Arial,Helvetica Neue,Helvetica,sans-serif; font-size:48px; text-anchor:middle;\" transform=\"rotate(0, 1509.94, 1557.47)\" x=\"1509.94\" y=\"1557.47\">0.5</text>\n",
       "</g>\n",
       "<g clip-path=\"url(#clip0300)\">\n",
       "<text style=\"fill:#000000; fill-opacity:1; font-family:Arial,Helvetica Neue,Helvetica,sans-serif; font-size:48px; text-anchor:middle;\" transform=\"rotate(0, 1764.5, 1557.47)\" x=\"1764.5\" y=\"1557.47\">1.0</text>\n",
       "</g>\n",
       "<g clip-path=\"url(#clip0300)\">\n",
       "<text style=\"fill:#000000; fill-opacity:1; font-family:Arial,Helvetica Neue,Helvetica,sans-serif; font-size:48px; text-anchor:end;\" transform=\"rotate(0, 503.264, 1301.97)\" x=\"503.264\" y=\"1301.97\">-1.0</text>\n",
       "</g>\n",
       "<g clip-path=\"url(#clip0300)\">\n",
       "<text style=\"fill:#000000; fill-opacity:1; font-family:Arial,Helvetica Neue,Helvetica,sans-serif; font-size:48px; text-anchor:end;\" transform=\"rotate(0, 503.264, 1047.42)\" x=\"503.264\" y=\"1047.42\">-0.5</text>\n",
       "</g>\n",
       "<g clip-path=\"url(#clip0300)\">\n",
       "<text style=\"fill:#000000; fill-opacity:1; font-family:Arial,Helvetica Neue,Helvetica,sans-serif; font-size:48px; text-anchor:end;\" transform=\"rotate(0, 503.264, 792.859)\" x=\"503.264\" y=\"792.859\">0.0</text>\n",
       "</g>\n",
       "<g clip-path=\"url(#clip0300)\">\n",
       "<text style=\"fill:#000000; fill-opacity:1; font-family:Arial,Helvetica Neue,Helvetica,sans-serif; font-size:48px; text-anchor:end;\" transform=\"rotate(0, 503.264, 538.302)\" x=\"503.264\" y=\"538.302\">0.5</text>\n",
       "</g>\n",
       "<g clip-path=\"url(#clip0300)\">\n",
       "<text style=\"fill:#000000; fill-opacity:1; font-family:Arial,Helvetica Neue,Helvetica,sans-serif; font-size:48px; text-anchor:end;\" transform=\"rotate(0, 503.264, 283.744)\" x=\"503.264\" y=\"283.744\">1.0</text>\n",
       "</g>\n",
       "<polygon clip-path=\"url(#clip0302)\" points=\"\n",
       "1942.29,775.359 1940.1,707.921 1933.39,640.496 1921.71,573.231 1904.39,506.532 1880.6,441.172 1849.58,378.327 1810.86,319.493 1764.5,266.244 1711.25,219.886 \n",
       "  1652.41,181.159 1589.57,150.14 1524.21,126.355 1457.51,109.033 1390.25,97.3572 1322.82,90.6452 1255.38,88.4582 1187.94,90.6452 1120.52,97.3572 1053.25,109.033 \n",
       "  986.556,126.355 921.195,150.14 858.35,181.159 799.516,219.886 746.267,266.244 699.908,319.493 661.181,378.327 630.161,441.172 606.376,506.532 589.054,573.231 \n",
       "  577.378,640.496 570.666,707.921 568.478,775.359 570.666,842.798 577.378,910.223 589.054,977.488 606.376,1044.19 630.161,1109.55 661.181,1172.39 699.908,1231.23 \n",
       "  746.267,1284.47 799.516,1330.83 858.35,1369.56 921.195,1400.58 986.556,1424.36 1053.25,1441.69 1120.52,1453.36 1187.94,1460.07 1255.38,1462.26 1322.82,1460.07 \n",
       "  1390.25,1453.36 1457.51,1441.69 1524.21,1424.36 1589.57,1400.58 1652.41,1369.56 1711.25,1330.83 1764.5,1284.47 1810.86,1231.23 1849.58,1172.39 1880.6,1109.55 \n",
       "  1904.39,1044.19 1921.71,977.488 1933.39,910.223 1940.1,842.798 1942.29,775.359 \n",
       "  \" fill=\"#009af9\" fill-rule=\"evenodd\" fill-opacity=\"1\"/>\n",
       "<polyline clip-path=\"url(#clip0302)\" style=\"stroke:#000000; stroke-width:4; stroke-opacity:1; fill:none\" points=\"\n",
       "  1942.29,775.359 1940.1,707.921 1933.39,640.496 1921.71,573.231 1904.39,506.532 1880.6,441.172 1849.58,378.327 1810.86,319.493 1764.5,266.244 1711.25,219.886 \n",
       "  1652.41,181.159 1589.57,150.14 1524.21,126.355 1457.51,109.033 1390.25,97.3572 1322.82,90.6452 1255.38,88.4582 1187.94,90.6452 1120.52,97.3572 1053.25,109.033 \n",
       "  986.556,126.355 921.195,150.14 858.35,181.159 799.516,219.886 746.267,266.244 699.908,319.493 661.181,378.327 630.161,441.172 606.376,506.532 589.054,573.231 \n",
       "  577.378,640.496 570.666,707.921 568.478,775.359 570.666,842.798 577.378,910.223 589.054,977.488 606.376,1044.19 630.161,1109.55 661.181,1172.39 699.908,1231.23 \n",
       "  746.267,1284.47 799.516,1330.83 858.35,1369.56 921.195,1400.58 986.556,1424.36 1053.25,1441.69 1120.52,1453.36 1187.94,1460.07 1255.38,1462.26 1322.82,1460.07 \n",
       "  1390.25,1453.36 1457.51,1441.69 1524.21,1424.36 1589.57,1400.58 1652.41,1369.56 1711.25,1330.83 1764.5,1284.47 1810.86,1231.23 1849.58,1172.39 1880.6,1109.55 \n",
       "  1904.39,1044.19 1921.71,977.488 1933.39,910.223 1940.1,842.798 1942.29,775.359 \n",
       "  \"/>\n",
       "<polygon clip-path=\"url(#clip0302)\" points=\"\n",
       "746.267,266.244 1764.5,266.244 1764.5,1284.47 746.267,1284.47 746.267,266.244 746.267,266.244 \n",
       "  \" fill=\"#e26f46\" fill-rule=\"evenodd\" fill-opacity=\"1\"/>\n",
       "<polyline clip-path=\"url(#clip0302)\" style=\"stroke:#000000; stroke-width:4; stroke-opacity:1; fill:none\" points=\"\n",
       "  746.267,266.244 1764.5,266.244 1764.5,1284.47 746.267,1284.47 746.267,266.244 \n",
       "  \"/>\n",
       "<polygon clip-path=\"url(#clip0302)\" points=\"\n",
       "746.267,701.616 759.358,568.698 779.013,469.886 798.03,407.195 812.46,372.359 821.456,355.528 825.846,348.958 827.167,347.349 827.371,347.144 828.981,345.824 \n",
       "  835.55,341.434 852.382,332.437 887.217,318.008 949.908,298.991 1048.72,279.336 1181.64,266.244 1329.13,266.244 1462.04,279.336 1560.86,298.991 1623.55,318.008 \n",
       "  1658.38,332.437 1675.21,341.434 1681.78,345.824 1683.39,347.144 1683.6,347.349 1684.92,348.958 1689.31,355.528 1698.3,372.359 1712.73,407.195 1731.75,469.886 \n",
       "  1751.41,568.698 1764.5,701.616 1764.5,849.103 1751.41,982.021 1731.75,1080.83 1712.73,1143.52 1698.3,1178.36 1689.31,1195.19 1684.92,1201.76 1683.6,1203.37 \n",
       "  1683.39,1203.57 1681.78,1204.9 1675.21,1209.29 1658.38,1218.28 1623.55,1232.71 1560.86,1251.73 1462.04,1271.38 1329.13,1284.47 1181.64,1284.47 1048.72,1271.38 \n",
       "  949.908,1251.73 887.217,1232.71 852.382,1218.28 835.55,1209.29 828.981,1204.9 827.371,1203.57 827.167,1203.37 825.846,1201.76 821.456,1195.19 812.46,1178.36 \n",
       "  798.03,1143.52 779.013,1080.83 759.358,982.021 746.267,849.103 746.267,701.616 746.267,701.616 \n",
       "  \" fill=\"#3da44d\" fill-rule=\"evenodd\" fill-opacity=\"1\"/>\n",
       "<polyline clip-path=\"url(#clip0302)\" style=\"stroke:#000000; stroke-width:4; stroke-opacity:1; fill:none\" points=\"\n",
       "  746.267,701.616 759.358,568.698 779.013,469.886 798.03,407.195 812.46,372.359 821.456,355.528 825.846,348.958 827.167,347.349 827.371,347.144 828.981,345.824 \n",
       "  835.55,341.434 852.382,332.437 887.217,318.008 949.908,298.991 1048.72,279.336 1181.64,266.244 1329.13,266.244 1462.04,279.336 1560.86,298.991 1623.55,318.008 \n",
       "  1658.38,332.437 1675.21,341.434 1681.78,345.824 1683.39,347.144 1683.6,347.349 1684.92,348.958 1689.31,355.528 1698.3,372.359 1712.73,407.195 1731.75,469.886 \n",
       "  1751.41,568.698 1764.5,701.616 1764.5,849.103 1751.41,982.021 1731.75,1080.83 1712.73,1143.52 1698.3,1178.36 1689.31,1195.19 1684.92,1201.76 1683.6,1203.37 \n",
       "  1683.39,1203.57 1681.78,1204.9 1675.21,1209.29 1658.38,1218.28 1623.55,1232.71 1560.86,1251.73 1462.04,1271.38 1329.13,1284.47 1181.64,1284.47 1048.72,1271.38 \n",
       "  949.908,1251.73 887.217,1232.71 852.382,1218.28 835.55,1209.29 828.981,1204.9 827.371,1203.57 827.167,1203.37 825.846,1201.76 821.456,1195.19 812.46,1178.36 \n",
       "  798.03,1143.52 779.013,1080.83 759.358,982.021 746.267,849.103 746.267,701.616 \n",
       "  \"/>\n",
       "<polygon clip-path=\"url(#clip0302)\" points=\"\n",
       "1764.5,775.359 1762.05,725.457 1754.71,676.036 1742.57,627.571 1725.74,580.53 1704.38,535.364 1678.7,492.51 1648.93,452.38 1615.38,415.361 1578.36,381.808 \n",
       "  1538.23,352.046 1495.38,326.36 1450.21,304.999 1403.17,288.167 1354.71,276.027 1305.28,268.696 1255.38,266.244 1205.48,268.696 1156.06,276.027 1107.59,288.167 \n",
       "  1060.55,304.999 1015.39,326.36 972.533,352.046 932.403,381.808 895.383,415.361 861.831,452.38 832.068,492.51 806.383,535.364 785.021,580.53 768.189,627.571 \n",
       "  756.05,676.036 748.719,725.457 746.267,775.359 748.719,825.261 756.05,874.683 768.189,923.148 785.021,970.189 806.383,1015.35 832.068,1058.21 861.831,1098.34 \n",
       "  895.383,1135.36 932.403,1168.91 972.533,1198.67 1015.39,1224.36 1060.55,1245.72 1107.59,1262.55 1156.06,1274.69 1205.48,1282.02 1255.38,1284.47 1305.28,1282.02 \n",
       "  1354.71,1274.69 1403.17,1262.55 1450.21,1245.72 1495.38,1224.36 1538.23,1198.67 1578.36,1168.91 1615.38,1135.36 1648.93,1098.34 1678.7,1058.21 1704.38,1015.35 \n",
       "  1725.74,970.189 1742.57,923.148 1754.71,874.683 1762.05,825.261 1764.5,775.359 \n",
       "  \" fill=\"#c271d2\" fill-rule=\"evenodd\" fill-opacity=\"1\"/>\n",
       "<polyline clip-path=\"url(#clip0302)\" style=\"stroke:#000000; stroke-width:4; stroke-opacity:1; fill:none\" points=\"\n",
       "  1764.5,775.359 1762.05,725.457 1754.71,676.036 1742.57,627.571 1725.74,580.53 1704.38,535.364 1678.7,492.51 1648.93,452.38 1615.38,415.361 1578.36,381.808 \n",
       "  1538.23,352.046 1495.38,326.36 1450.21,304.999 1403.17,288.167 1354.71,276.027 1305.28,268.696 1255.38,266.244 1205.48,268.696 1156.06,276.027 1107.59,288.167 \n",
       "  1060.55,304.999 1015.39,326.36 972.533,352.046 932.403,381.808 895.383,415.361 861.831,452.38 832.068,492.51 806.383,535.364 785.021,580.53 768.189,627.571 \n",
       "  756.05,676.036 748.719,725.457 746.267,775.359 748.719,825.261 756.05,874.683 768.189,923.148 785.021,970.189 806.383,1015.35 832.068,1058.21 861.831,1098.34 \n",
       "  895.383,1135.36 932.403,1168.91 972.533,1198.67 1015.39,1224.36 1060.55,1245.72 1107.59,1262.55 1156.06,1274.69 1205.48,1282.02 1255.38,1284.47 1305.28,1282.02 \n",
       "  1354.71,1274.69 1403.17,1262.55 1450.21,1245.72 1495.38,1224.36 1538.23,1198.67 1578.36,1168.91 1615.38,1135.36 1648.93,1098.34 1678.7,1058.21 1704.38,1015.35 \n",
       "  1725.74,970.189 1742.57,923.148 1754.71,874.683 1762.05,825.261 1764.5,775.359 \n",
       "  \"/>\n",
       "</svg>\n"
      ]
     },
     "execution_count": 17,
     "metadata": {},
     "output_type": "execute_result"
    }
   ],
   "source": [
    "using Plots\n",
    "plot(ratio=:equal)\n",
    "plot!(JuMP.value(quartic_outer))\n",
    "plot!(p)\n",
    "plot!(JuMP.value(quartic_inner))\n",
    "plot!(JuMP.value(john))"
   ]
  },
  {
   "cell_type": "code",
   "execution_count": 18,
   "metadata": {},
   "outputs": [
    {
     "data": {
      "text/plain": [
       "inner_L1 (generic function with 1 method)"
      ]
     },
     "execution_count": 18,
     "metadata": {},
     "output_type": "execute_result"
    }
   ],
   "source": [
    "function inner_L1(d)\n",
    "    model = Model(optimizer_constructor);\n",
    "    @variable(model, quartic_innerL1, PolySet(symmetric=true, degree = d, convex=true))\n",
    "    cref = @constraint(model, quartic_innerL1 ⊆ p)\n",
    "    @objective(model, Max, L1_heuristic(volume(quartic_innerL1), [1.0, 1.0]))\n",
    "    @time JuMP.optimize!(model)\n",
    "    @show JuMP.termination_status(model)\n",
    "    @show JuMP.objective_value(model)\n",
    "    return JuMP.value(quartic_innerL1)\n",
    "end"
   ]
  },
  {
   "cell_type": "code",
   "execution_count": 19,
   "metadata": {},
   "outputs": [
    {
     "name": "stdout",
     "output_type": "stream",
     "text": [
      "  0.068831 seconds (128.71 k allocations: 6.346 MiB)\n",
      "JuMP.termination_status(model) = OPTIMAL::TerminationStatusCode = 1\n",
      "JuMP.objective_value(model) = 2.6666666666379877\n",
      "  0.003476 seconds (4.55 k allocations: 301.625 KiB)\n",
      "JuMP.termination_status(model) = OPTIMAL::TerminationStatusCode = 1\n",
      "JuMP.objective_value(model) = 4.26666666260044\n",
      "  0.005859 seconds (6.26 k allocations: 424.422 KiB)\n",
      "JuMP.termination_status(model) = OPTIMAL::TerminationStatusCode = 1\n",
      "JuMP.objective_value(model) = 9.142854202672021\n",
      "  0.006286 seconds (8.26 k allocations: 586.203 KiB)\n",
      "JuMP.termination_status(model) = OPTIMAL::TerminationStatusCode = 1\n",
      "JuMP.objective_value(model) = 23.25747428514344\n",
      "  0.007432 seconds (10.48 k allocations: 752.375 KiB)\n",
      "JuMP.termination_status(model) = OPTIMAL::TerminationStatusCode = 1\n",
      "JuMP.objective_value(model) = 62.92672034900617\n"
     ]
    },
    {
     "data": {
      "text/plain": [
       "SetProg.Sets.Polar{Float64,SetProg.Sets.ConvexPolynomialSublevelSetAtOrigin{Float64}}(SetProg.Sets.ConvexPolynomialSublevelSetAtOrigin{Float64}(10, SumOfSquares.GramMatrix{Float64,DynamicPolynomials.Monomial{true},DynamicPolynomials.MonomialVector{true}}([1.0 -5.04442e-15 … 1.17149 -3.27804e-16; -5.04442e-15 61.8282 … -1.81717e-14 1.17149; … ; 1.17149 -1.81717e-14 … 61.8282 -5.30646e-15; -3.27804e-16 1.17149 … -5.30646e-15 1.0], DynamicPolynomials.Monomial{true}[x₁⁵, x₁⁴x₂, x₁³x₂², x₁²x₂³, x₁x₂⁴, x₂⁵]), [90.0 -6.10145e-14 … 51.5282 -8.99162e-13; -6.10145e-14 92.4539 … -5.15415e-12 51.5282; … ; 51.5282 -5.15415e-12 … 92.4539 -8.25066e-14; -8.99162e-13 51.5282 … -8.25066e-14 90.0]))"
      ]
     },
     "execution_count": 19,
     "metadata": {},
     "output_type": "execute_result"
    }
   ],
   "source": [
    "S2 = inner_L1(2)\n",
    "S4 = inner_L1(4)\n",
    "S6 = inner_L1(6)\n",
    "S8 = inner_L1(8)\n",
    "S10 = inner_L1(10)"
   ]
  },
  {
   "cell_type": "code",
   "execution_count": 20,
   "metadata": {},
   "outputs": [
    {
     "data": {
      "image/svg+xml": [
       "<?xml version=\"1.0\" encoding=\"utf-8\"?>\n",
       "<svg xmlns=\"http://www.w3.org/2000/svg\" xmlns:xlink=\"http://www.w3.org/1999/xlink\" width=\"600\" height=\"400\" viewBox=\"0 0 2400 1600\">\n",
       "<defs>\n",
       "  <clipPath id=\"clip0700\">\n",
       "    <rect x=\"0\" y=\"0\" width=\"2400\" height=\"1600\"/>\n",
       "  </clipPath>\n",
       "</defs>\n",
       "<polygon clip-path=\"url(#clip0700)\" points=\"\n",
       "0,1600 2400,1600 2400,0 0,0 \n",
       "  \" fill=\"#ffffff\" fill-rule=\"evenodd\" fill-opacity=\"1\"/>\n",
       "<defs>\n",
       "  <clipPath id=\"clip0701\">\n",
       "    <rect x=\"480\" y=\"0\" width=\"1681\" height=\"1600\"/>\n",
       "  </clipPath>\n",
       "</defs>\n",
       "<polygon clip-path=\"url(#clip0700)\" points=\"\n",
       "527.264,1503.47 1983.5,1503.47 1983.5,47.2441 527.264,47.2441 \n",
       "  \" fill=\"#ffffff\" fill-rule=\"evenodd\" fill-opacity=\"1\"/>\n",
       "<defs>\n",
       "  <clipPath id=\"clip0702\">\n",
       "    <rect x=\"527\" y=\"47\" width=\"1457\" height=\"1457\"/>\n",
       "  </clipPath>\n",
       "</defs>\n",
       "<polyline clip-path=\"url(#clip0702)\" style=\"stroke:#000000; stroke-width:2; stroke-opacity:0.1; fill:none\" points=\"\n",
       "  746.267,1503.47 746.267,47.2441 \n",
       "  \"/>\n",
       "<polyline clip-path=\"url(#clip0702)\" style=\"stroke:#000000; stroke-width:2; stroke-opacity:0.1; fill:none\" points=\"\n",
       "  1000.82,1503.47 1000.82,47.2441 \n",
       "  \"/>\n",
       "<polyline clip-path=\"url(#clip0702)\" style=\"stroke:#000000; stroke-width:2; stroke-opacity:0.1; fill:none\" points=\"\n",
       "  1255.38,1503.47 1255.38,47.2441 \n",
       "  \"/>\n",
       "<polyline clip-path=\"url(#clip0702)\" style=\"stroke:#000000; stroke-width:2; stroke-opacity:0.1; fill:none\" points=\"\n",
       "  1509.94,1503.47 1509.94,47.2441 \n",
       "  \"/>\n",
       "<polyline clip-path=\"url(#clip0702)\" style=\"stroke:#000000; stroke-width:2; stroke-opacity:0.1; fill:none\" points=\"\n",
       "  1764.5,1503.47 1764.5,47.2441 \n",
       "  \"/>\n",
       "<polyline clip-path=\"url(#clip0702)\" style=\"stroke:#000000; stroke-width:2; stroke-opacity:0.1; fill:none\" points=\"\n",
       "  527.264,1284.47 1983.5,1284.47 \n",
       "  \"/>\n",
       "<polyline clip-path=\"url(#clip0702)\" style=\"stroke:#000000; stroke-width:2; stroke-opacity:0.1; fill:none\" points=\"\n",
       "  527.264,1029.92 1983.5,1029.92 \n",
       "  \"/>\n",
       "<polyline clip-path=\"url(#clip0702)\" style=\"stroke:#000000; stroke-width:2; stroke-opacity:0.1; fill:none\" points=\"\n",
       "  527.264,775.359 1983.5,775.359 \n",
       "  \"/>\n",
       "<polyline clip-path=\"url(#clip0702)\" style=\"stroke:#000000; stroke-width:2; stroke-opacity:0.1; fill:none\" points=\"\n",
       "  527.264,520.802 1983.5,520.802 \n",
       "  \"/>\n",
       "<polyline clip-path=\"url(#clip0702)\" style=\"stroke:#000000; stroke-width:2; stroke-opacity:0.1; fill:none\" points=\"\n",
       "  527.264,266.244 1983.5,266.244 \n",
       "  \"/>\n",
       "<polyline clip-path=\"url(#clip0700)\" style=\"stroke:#000000; stroke-width:4; stroke-opacity:1; fill:none\" points=\"\n",
       "  527.264,1503.47 1983.5,1503.47 \n",
       "  \"/>\n",
       "<polyline clip-path=\"url(#clip0700)\" style=\"stroke:#000000; stroke-width:4; stroke-opacity:1; fill:none\" points=\"\n",
       "  527.264,1503.47 527.264,47.2441 \n",
       "  \"/>\n",
       "<polyline clip-path=\"url(#clip0700)\" style=\"stroke:#000000; stroke-width:4; stroke-opacity:1; fill:none\" points=\"\n",
       "  746.267,1503.47 746.267,1481.63 \n",
       "  \"/>\n",
       "<polyline clip-path=\"url(#clip0700)\" style=\"stroke:#000000; stroke-width:4; stroke-opacity:1; fill:none\" points=\"\n",
       "  1000.82,1503.47 1000.82,1481.63 \n",
       "  \"/>\n",
       "<polyline clip-path=\"url(#clip0700)\" style=\"stroke:#000000; stroke-width:4; stroke-opacity:1; fill:none\" points=\"\n",
       "  1255.38,1503.47 1255.38,1481.63 \n",
       "  \"/>\n",
       "<polyline clip-path=\"url(#clip0700)\" style=\"stroke:#000000; stroke-width:4; stroke-opacity:1; fill:none\" points=\"\n",
       "  1509.94,1503.47 1509.94,1481.63 \n",
       "  \"/>\n",
       "<polyline clip-path=\"url(#clip0700)\" style=\"stroke:#000000; stroke-width:4; stroke-opacity:1; fill:none\" points=\"\n",
       "  1764.5,1503.47 1764.5,1481.63 \n",
       "  \"/>\n",
       "<polyline clip-path=\"url(#clip0700)\" style=\"stroke:#000000; stroke-width:4; stroke-opacity:1; fill:none\" points=\"\n",
       "  527.264,1284.47 549.108,1284.47 \n",
       "  \"/>\n",
       "<polyline clip-path=\"url(#clip0700)\" style=\"stroke:#000000; stroke-width:4; stroke-opacity:1; fill:none\" points=\"\n",
       "  527.264,1029.92 549.108,1029.92 \n",
       "  \"/>\n",
       "<polyline clip-path=\"url(#clip0700)\" style=\"stroke:#000000; stroke-width:4; stroke-opacity:1; fill:none\" points=\"\n",
       "  527.264,775.359 549.108,775.359 \n",
       "  \"/>\n",
       "<polyline clip-path=\"url(#clip0700)\" style=\"stroke:#000000; stroke-width:4; stroke-opacity:1; fill:none\" points=\"\n",
       "  527.264,520.802 549.108,520.802 \n",
       "  \"/>\n",
       "<polyline clip-path=\"url(#clip0700)\" style=\"stroke:#000000; stroke-width:4; stroke-opacity:1; fill:none\" points=\"\n",
       "  527.264,266.244 549.108,266.244 \n",
       "  \"/>\n",
       "<g clip-path=\"url(#clip0700)\">\n",
       "<text style=\"fill:#000000; fill-opacity:1; font-family:Arial,Helvetica Neue,Helvetica,sans-serif; font-size:48px; text-anchor:middle;\" transform=\"rotate(0, 746.267, 1557.47)\" x=\"746.267\" y=\"1557.47\">-1.0</text>\n",
       "</g>\n",
       "<g clip-path=\"url(#clip0700)\">\n",
       "<text style=\"fill:#000000; fill-opacity:1; font-family:Arial,Helvetica Neue,Helvetica,sans-serif; font-size:48px; text-anchor:middle;\" transform=\"rotate(0, 1000.82, 1557.47)\" x=\"1000.82\" y=\"1557.47\">-0.5</text>\n",
       "</g>\n",
       "<g clip-path=\"url(#clip0700)\">\n",
       "<text style=\"fill:#000000; fill-opacity:1; font-family:Arial,Helvetica Neue,Helvetica,sans-serif; font-size:48px; text-anchor:middle;\" transform=\"rotate(0, 1255.38, 1557.47)\" x=\"1255.38\" y=\"1557.47\">0.0</text>\n",
       "</g>\n",
       "<g clip-path=\"url(#clip0700)\">\n",
       "<text style=\"fill:#000000; fill-opacity:1; font-family:Arial,Helvetica Neue,Helvetica,sans-serif; font-size:48px; text-anchor:middle;\" transform=\"rotate(0, 1509.94, 1557.47)\" x=\"1509.94\" y=\"1557.47\">0.5</text>\n",
       "</g>\n",
       "<g clip-path=\"url(#clip0700)\">\n",
       "<text style=\"fill:#000000; fill-opacity:1; font-family:Arial,Helvetica Neue,Helvetica,sans-serif; font-size:48px; text-anchor:middle;\" transform=\"rotate(0, 1764.5, 1557.47)\" x=\"1764.5\" y=\"1557.47\">1.0</text>\n",
       "</g>\n",
       "<g clip-path=\"url(#clip0700)\">\n",
       "<text style=\"fill:#000000; fill-opacity:1; font-family:Arial,Helvetica Neue,Helvetica,sans-serif; font-size:48px; text-anchor:end;\" transform=\"rotate(0, 503.264, 1301.97)\" x=\"503.264\" y=\"1301.97\">-1.0</text>\n",
       "</g>\n",
       "<g clip-path=\"url(#clip0700)\">\n",
       "<text style=\"fill:#000000; fill-opacity:1; font-family:Arial,Helvetica Neue,Helvetica,sans-serif; font-size:48px; text-anchor:end;\" transform=\"rotate(0, 503.264, 1047.42)\" x=\"503.264\" y=\"1047.42\">-0.5</text>\n",
       "</g>\n",
       "<g clip-path=\"url(#clip0700)\">\n",
       "<text style=\"fill:#000000; fill-opacity:1; font-family:Arial,Helvetica Neue,Helvetica,sans-serif; font-size:48px; text-anchor:end;\" transform=\"rotate(0, 503.264, 792.859)\" x=\"503.264\" y=\"792.859\">0.0</text>\n",
       "</g>\n",
       "<g clip-path=\"url(#clip0700)\">\n",
       "<text style=\"fill:#000000; fill-opacity:1; font-family:Arial,Helvetica Neue,Helvetica,sans-serif; font-size:48px; text-anchor:end;\" transform=\"rotate(0, 503.264, 538.302)\" x=\"503.264\" y=\"538.302\">0.5</text>\n",
       "</g>\n",
       "<g clip-path=\"url(#clip0700)\">\n",
       "<text style=\"fill:#000000; fill-opacity:1; font-family:Arial,Helvetica Neue,Helvetica,sans-serif; font-size:48px; text-anchor:end;\" transform=\"rotate(0, 503.264, 283.744)\" x=\"503.264\" y=\"283.744\">1.0</text>\n",
       "</g>\n",
       "<polygon clip-path=\"url(#clip0702)\" points=\"\n",
       "1942.29,775.359 1940.1,707.921 1933.39,640.496 1921.71,573.231 1904.39,506.532 1880.6,441.172 1849.58,378.327 1810.86,319.493 1764.5,266.244 1711.25,219.886 \n",
       "  1652.41,181.159 1589.57,150.14 1524.21,126.355 1457.51,109.033 1390.25,97.3572 1322.82,90.6452 1255.38,88.4582 1187.94,90.6452 1120.52,97.3572 1053.25,109.033 \n",
       "  986.556,126.355 921.195,150.14 858.35,181.159 799.516,219.886 746.267,266.244 699.908,319.493 661.181,378.327 630.161,441.172 606.376,506.532 589.054,573.231 \n",
       "  577.378,640.496 570.666,707.921 568.478,775.359 570.666,842.798 577.378,910.223 589.054,977.488 606.376,1044.19 630.161,1109.55 661.181,1172.39 699.908,1231.23 \n",
       "  746.267,1284.47 799.516,1330.83 858.35,1369.56 921.195,1400.58 986.556,1424.36 1053.25,1441.69 1120.52,1453.36 1187.94,1460.07 1255.38,1462.26 1322.82,1460.07 \n",
       "  1390.25,1453.36 1457.51,1441.69 1524.21,1424.36 1589.57,1400.58 1652.41,1369.56 1711.25,1330.83 1764.5,1284.47 1810.86,1231.23 1849.58,1172.39 1880.6,1109.55 \n",
       "  1904.39,1044.19 1921.71,977.488 1933.39,910.223 1940.1,842.798 1942.29,775.359 \n",
       "  \" fill=\"#009af9\" fill-rule=\"evenodd\" fill-opacity=\"1\"/>\n",
       "<polyline clip-path=\"url(#clip0702)\" style=\"stroke:#000000; stroke-width:4; stroke-opacity:1; fill:none\" points=\"\n",
       "  1942.29,775.359 1940.1,707.921 1933.39,640.496 1921.71,573.231 1904.39,506.532 1880.6,441.172 1849.58,378.327 1810.86,319.493 1764.5,266.244 1711.25,219.886 \n",
       "  1652.41,181.159 1589.57,150.14 1524.21,126.355 1457.51,109.033 1390.25,97.3572 1322.82,90.6452 1255.38,88.4582 1187.94,90.6452 1120.52,97.3572 1053.25,109.033 \n",
       "  986.556,126.355 921.195,150.14 858.35,181.159 799.516,219.886 746.267,266.244 699.908,319.493 661.181,378.327 630.161,441.172 606.376,506.532 589.054,573.231 \n",
       "  577.378,640.496 570.666,707.921 568.478,775.359 570.666,842.798 577.378,910.223 589.054,977.488 606.376,1044.19 630.161,1109.55 661.181,1172.39 699.908,1231.23 \n",
       "  746.267,1284.47 799.516,1330.83 858.35,1369.56 921.195,1400.58 986.556,1424.36 1053.25,1441.69 1120.52,1453.36 1187.94,1460.07 1255.38,1462.26 1322.82,1460.07 \n",
       "  1390.25,1453.36 1457.51,1441.69 1524.21,1424.36 1589.57,1400.58 1652.41,1369.56 1711.25,1330.83 1764.5,1284.47 1810.86,1231.23 1849.58,1172.39 1880.6,1109.55 \n",
       "  1904.39,1044.19 1921.71,977.488 1933.39,910.223 1940.1,842.798 1942.29,775.359 \n",
       "  \"/>\n",
       "<polygon clip-path=\"url(#clip0702)\" points=\"\n",
       "746.267,266.244 1764.5,266.244 1764.5,1284.47 746.267,1284.47 746.267,266.244 746.267,266.244 \n",
       "  \" fill=\"#e26f46\" fill-rule=\"evenodd\" fill-opacity=\"1\"/>\n",
       "<polyline clip-path=\"url(#clip0702)\" style=\"stroke:#000000; stroke-width:4; stroke-opacity:1; fill:none\" points=\"\n",
       "  746.267,266.244 1764.5,266.244 1764.5,1284.47 746.267,1284.47 746.267,266.244 \n",
       "  \"/>\n",
       "<polygon clip-path=\"url(#clip0702)\" points=\"\n",
       "746.267,572.842 767.901,353.186 777.129,306.797 778.907,300.936 779.058,300.571 779.11,300.474 779.285,300.211 779.562,299.873 779.896,299.54 780.233,299.263 \n",
       "  780.496,299.087 780.593,299.035 780.958,298.884 786.82,297.106 833.208,287.879 1052.86,266.244 1457.9,266.244 1677.56,287.879 1723.94,297.106 1729.81,298.884 \n",
       "  1730.17,299.035 1730.27,299.087 1730.53,299.263 1730.87,299.54 1731.2,299.873 1731.48,300.211 1731.65,300.474 1731.71,300.571 1731.86,300.936 1733.64,306.797 \n",
       "  1742.86,353.186 1764.5,572.842 1764.5,977.877 1742.86,1197.53 1733.64,1243.92 1731.86,1249.78 1731.71,1250.15 1731.65,1250.25 1731.48,1250.51 1731.2,1250.85 \n",
       "  1730.87,1251.18 1730.53,1251.46 1730.27,1251.63 1730.17,1251.68 1729.81,1251.83 1723.94,1253.61 1677.56,1262.84 1457.9,1284.47 1052.86,1284.47 833.208,1262.84 \n",
       "  786.82,1253.61 780.958,1251.83 780.593,1251.68 780.496,1251.63 780.233,1251.46 779.896,1251.18 779.562,1250.85 779.285,1250.51 779.11,1250.25 779.058,1250.15 \n",
       "  778.907,1249.78 777.129,1243.92 767.901,1197.53 746.267,977.877 746.267,572.842 746.267,572.842 \n",
       "  \" fill=\"#3da44d\" fill-rule=\"evenodd\" fill-opacity=\"1\"/>\n",
       "<polyline clip-path=\"url(#clip0702)\" style=\"stroke:#000000; stroke-width:4; stroke-opacity:1; fill:none\" points=\"\n",
       "  746.267,572.842 767.901,353.186 777.129,306.797 778.907,300.936 779.058,300.571 779.11,300.474 779.285,300.211 779.562,299.873 779.896,299.54 780.233,299.263 \n",
       "  780.496,299.087 780.593,299.035 780.958,298.884 786.82,297.106 833.208,287.879 1052.86,266.244 1457.9,266.244 1677.56,287.879 1723.94,297.106 1729.81,298.884 \n",
       "  1730.17,299.035 1730.27,299.087 1730.53,299.263 1730.87,299.54 1731.2,299.873 1731.48,300.211 1731.65,300.474 1731.71,300.571 1731.86,300.936 1733.64,306.797 \n",
       "  1742.86,353.186 1764.5,572.842 1764.5,977.877 1742.86,1197.53 1733.64,1243.92 1731.86,1249.78 1731.71,1250.15 1731.65,1250.25 1731.48,1250.51 1731.2,1250.85 \n",
       "  1730.87,1251.18 1730.53,1251.46 1730.27,1251.63 1730.17,1251.68 1729.81,1251.83 1723.94,1253.61 1677.56,1262.84 1457.9,1284.47 1052.86,1284.47 833.208,1262.84 \n",
       "  786.82,1253.61 780.958,1251.83 780.593,1251.68 780.496,1251.63 780.233,1251.46 779.896,1251.18 779.562,1250.85 779.285,1250.51 779.11,1250.25 779.058,1250.15 \n",
       "  778.907,1249.78 777.129,1243.92 767.901,1197.53 746.267,977.877 746.267,572.842 \n",
       "  \"/>\n",
       "<polygon clip-path=\"url(#clip0702)\" points=\"\n",
       "746.267,608.46 767.45,393.381 781.096,324.779 785.427,310.504 786.186,308.67 786.245,308.561 786.471,308.222 786.974,307.609 787.632,306.951 788.245,306.448 \n",
       "  788.583,306.222 788.692,306.164 790.527,305.404 804.802,301.074 873.404,287.428 1088.48,266.244 1422.28,266.244 1637.36,287.428 1705.96,301.074 1720.24,305.404 \n",
       "  1722.07,306.164 1722.18,306.222 1722.52,306.448 1723.13,306.951 1723.79,307.609 1724.29,308.222 1724.52,308.561 1724.58,308.67 1725.34,310.504 1729.67,324.779 \n",
       "  1743.31,393.381 1764.5,608.46 1764.5,942.259 1743.31,1157.34 1729.67,1225.94 1725.34,1240.21 1724.58,1242.05 1724.52,1242.16 1724.29,1242.5 1723.79,1243.11 \n",
       "  1723.13,1243.77 1722.52,1244.27 1722.18,1244.5 1722.07,1244.56 1720.24,1245.31 1705.96,1249.65 1637.36,1263.29 1422.28,1284.47 1088.48,1284.47 873.404,1263.29 \n",
       "  804.802,1249.65 790.527,1245.31 788.692,1244.56 788.583,1244.5 788.245,1244.27 787.632,1243.77 786.974,1243.11 786.471,1242.5 786.245,1242.16 786.186,1242.05 \n",
       "  785.427,1240.21 781.096,1225.94 767.45,1157.34 746.267,942.259 746.267,608.46 746.267,608.46 \n",
       "  \" fill=\"#c271d2\" fill-rule=\"evenodd\" fill-opacity=\"1\"/>\n",
       "<polyline clip-path=\"url(#clip0702)\" style=\"stroke:#000000; stroke-width:4; stroke-opacity:1; fill:none\" points=\"\n",
       "  746.267,608.46 767.45,393.381 781.096,324.779 785.427,310.504 786.186,308.67 786.245,308.561 786.471,308.222 786.974,307.609 787.632,306.951 788.245,306.448 \n",
       "  788.583,306.222 788.692,306.164 790.527,305.404 804.802,301.074 873.404,287.428 1088.48,266.244 1422.28,266.244 1637.36,287.428 1705.96,301.074 1720.24,305.404 \n",
       "  1722.07,306.164 1722.18,306.222 1722.52,306.448 1723.13,306.951 1723.79,307.609 1724.29,308.222 1724.52,308.561 1724.58,308.67 1725.34,310.504 1729.67,324.779 \n",
       "  1743.31,393.381 1764.5,608.46 1764.5,942.259 1743.31,1157.34 1729.67,1225.94 1725.34,1240.21 1724.58,1242.05 1724.52,1242.16 1724.29,1242.5 1723.79,1243.11 \n",
       "  1723.13,1243.77 1722.52,1244.27 1722.18,1244.5 1722.07,1244.56 1720.24,1245.31 1705.96,1249.65 1637.36,1263.29 1422.28,1284.47 1088.48,1284.47 873.404,1263.29 \n",
       "  804.802,1249.65 790.527,1245.31 788.692,1244.56 788.583,1244.5 788.245,1244.27 787.632,1243.77 786.974,1243.11 786.471,1242.5 786.245,1242.16 786.186,1242.05 \n",
       "  785.427,1240.21 781.096,1225.94 767.45,1157.34 746.267,942.259 746.267,608.46 \n",
       "  \"/>\n",
       "<polygon clip-path=\"url(#clip0702)\" points=\"\n",
       "746.267,655.902 764.604,469.728 783.543,374.513 794.784,337.456 799.729,325.518 801.392,322.407 801.771,321.84 801.811,321.79 801.813,321.789 801.863,321.748 \n",
       "  802.43,321.369 805.54,319.707 817.478,314.762 854.536,303.52 949.75,284.581 1135.92,266.244 1374.84,266.244 1561.01,284.581 1656.23,303.52 1693.29,314.762 \n",
       "  1705.22,319.707 1708.33,321.369 1708.9,321.748 1708.95,321.789 1708.95,321.79 1708.99,321.84 1709.37,322.407 1711.03,325.518 1715.98,337.456 1727.22,374.513 \n",
       "  1746.16,469.728 1764.5,655.902 1764.5,894.817 1746.16,1080.99 1727.22,1176.21 1715.98,1213.26 1711.03,1225.2 1709.37,1228.31 1708.99,1228.88 1708.95,1228.93 \n",
       "  1708.95,1228.93 1708.9,1228.97 1708.33,1229.35 1705.22,1231.01 1693.29,1235.96 1656.23,1247.2 1561.01,1266.14 1374.84,1284.47 1135.92,1284.47 949.75,1266.14 \n",
       "  854.536,1247.2 817.478,1235.96 805.54,1231.01 802.43,1229.35 801.863,1228.97 801.813,1228.93 801.811,1228.93 801.771,1228.88 801.392,1228.31 799.729,1225.2 \n",
       "  794.784,1213.26 783.543,1176.21 764.604,1080.99 746.267,894.817 746.267,655.902 746.267,655.902 \n",
       "  \" fill=\"#ac8d18\" fill-rule=\"evenodd\" fill-opacity=\"1\"/>\n",
       "<polyline clip-path=\"url(#clip0702)\" style=\"stroke:#000000; stroke-width:4; stroke-opacity:1; fill:none\" points=\"\n",
       "  746.267,655.902 764.604,469.728 783.543,374.513 794.784,337.456 799.729,325.518 801.392,322.407 801.771,321.84 801.811,321.79 801.813,321.789 801.863,321.748 \n",
       "  802.43,321.369 805.54,319.707 817.478,314.762 854.536,303.52 949.75,284.581 1135.92,266.244 1374.84,266.244 1561.01,284.581 1656.23,303.52 1693.29,314.762 \n",
       "  1705.22,319.707 1708.33,321.369 1708.9,321.748 1708.95,321.789 1708.95,321.79 1708.99,321.84 1709.37,322.407 1711.03,325.518 1715.98,337.456 1727.22,374.513 \n",
       "  1746.16,469.728 1764.5,655.902 1764.5,894.817 1746.16,1080.99 1727.22,1176.21 1715.98,1213.26 1711.03,1225.2 1709.37,1228.31 1708.99,1228.88 1708.95,1228.93 \n",
       "  1708.95,1228.93 1708.9,1228.97 1708.33,1229.35 1705.22,1231.01 1693.29,1235.96 1656.23,1247.2 1561.01,1266.14 1374.84,1284.47 1135.92,1284.47 949.75,1266.14 \n",
       "  854.536,1247.2 817.478,1235.96 805.54,1231.01 802.43,1229.35 801.863,1228.97 801.813,1228.93 801.811,1228.93 801.771,1228.88 801.392,1228.31 799.729,1225.2 \n",
       "  794.784,1213.26 783.543,1176.21 764.604,1080.99 746.267,894.817 746.267,655.902 \n",
       "  \"/>\n",
       "<polygon clip-path=\"url(#clip0702)\" points=\"\n",
       "746.267,701.616 759.358,568.698 779.013,469.886 798.03,407.195 812.46,372.359 821.456,355.528 825.846,348.958 827.167,347.349 827.371,347.144 828.981,345.824 \n",
       "  835.55,341.434 852.382,332.437 887.217,318.008 949.908,298.991 1048.72,279.336 1181.64,266.244 1329.13,266.244 1462.04,279.336 1560.86,298.991 1623.55,318.008 \n",
       "  1658.38,332.437 1675.21,341.434 1681.78,345.824 1683.39,347.144 1683.6,347.349 1684.92,348.958 1689.31,355.528 1698.3,372.359 1712.73,407.195 1731.75,469.886 \n",
       "  1751.41,568.698 1764.5,701.616 1764.5,849.103 1751.41,982.021 1731.75,1080.83 1712.73,1143.52 1698.3,1178.36 1689.31,1195.19 1684.92,1201.76 1683.6,1203.37 \n",
       "  1683.39,1203.57 1681.78,1204.9 1675.21,1209.29 1658.38,1218.28 1623.55,1232.71 1560.86,1251.73 1462.04,1271.38 1329.13,1284.47 1181.64,1284.47 1048.72,1271.38 \n",
       "  949.908,1251.73 887.217,1232.71 852.382,1218.28 835.55,1209.29 828.981,1204.9 827.371,1203.57 827.167,1203.37 825.846,1201.76 821.456,1195.19 812.46,1178.36 \n",
       "  798.03,1143.52 779.013,1080.83 759.358,982.021 746.267,849.103 746.267,701.616 746.267,701.616 \n",
       "  \" fill=\"#00a9ad\" fill-rule=\"evenodd\" fill-opacity=\"1\"/>\n",
       "<polyline clip-path=\"url(#clip0702)\" style=\"stroke:#000000; stroke-width:4; stroke-opacity:1; fill:none\" points=\"\n",
       "  746.267,701.616 759.358,568.698 779.013,469.886 798.03,407.195 812.46,372.359 821.456,355.528 825.846,348.958 827.167,347.349 827.371,347.144 828.981,345.824 \n",
       "  835.55,341.434 852.382,332.437 887.217,318.008 949.908,298.991 1048.72,279.336 1181.64,266.244 1329.13,266.244 1462.04,279.336 1560.86,298.991 1623.55,318.008 \n",
       "  1658.38,332.437 1675.21,341.434 1681.78,345.824 1683.39,347.144 1683.6,347.349 1684.92,348.958 1689.31,355.528 1698.3,372.359 1712.73,407.195 1731.75,469.886 \n",
       "  1751.41,568.698 1764.5,701.616 1764.5,849.103 1751.41,982.021 1731.75,1080.83 1712.73,1143.52 1698.3,1178.36 1689.31,1195.19 1684.92,1201.76 1683.6,1203.37 \n",
       "  1683.39,1203.57 1681.78,1204.9 1675.21,1209.29 1658.38,1218.28 1623.55,1232.71 1560.86,1251.73 1462.04,1271.38 1329.13,1284.47 1181.64,1284.47 1048.72,1271.38 \n",
       "  949.908,1251.73 887.217,1232.71 852.382,1218.28 835.55,1209.29 828.981,1204.9 827.371,1203.57 827.167,1203.37 825.846,1201.76 821.456,1195.19 812.46,1178.36 \n",
       "  798.03,1143.52 779.013,1080.83 759.358,982.021 746.267,849.103 746.267,701.616 \n",
       "  \"/>\n",
       "<polygon clip-path=\"url(#clip0702)\" points=\"\n",
       "746.267,800.371 746.267,750.348 751.17,700.567 760.929,651.505 775.45,603.637 794.592,557.422 818.173,513.306 845.964,471.714 877.698,433.046 913.069,397.675 \n",
       "  951.737,365.941 993.329,338.15 1037.44,314.57 1083.66,295.427 1131.53,280.906 1180.59,271.148 1230.37,266.244 1280.39,266.244 1330.17,271.148 1379.24,280.906 \n",
       "  1427.1,295.427 1473.32,314.57 1517.44,338.15 1559.03,365.941 1597.7,397.675 1633.07,433.046 1664.8,471.714 1692.59,513.306 1716.17,557.422 1735.31,603.637 \n",
       "  1749.83,651.505 1759.59,700.567 1764.5,750.348 1764.5,800.371 1759.59,850.152 1749.83,899.213 1735.31,947.082 1716.17,993.297 1692.59,1037.41 1664.8,1079 \n",
       "  1633.07,1117.67 1597.7,1153.04 1559.03,1184.78 1517.44,1212.57 1473.32,1236.15 1427.1,1255.29 1379.24,1269.81 1330.17,1279.57 1280.39,1284.47 1230.37,1284.47 \n",
       "  1180.59,1279.57 1131.53,1269.81 1083.66,1255.29 1037.44,1236.15 993.329,1212.57 951.737,1184.78 913.069,1153.04 877.698,1117.67 845.964,1079 818.173,1037.41 \n",
       "  794.592,993.297 775.45,947.082 760.929,899.213 751.17,850.152 746.267,800.371 746.267,800.371 \n",
       "  \" fill=\"#ed5d92\" fill-rule=\"evenodd\" fill-opacity=\"1\"/>\n",
       "<polyline clip-path=\"url(#clip0702)\" style=\"stroke:#000000; stroke-width:4; stroke-opacity:1; fill:none\" points=\"\n",
       "  746.267,800.371 746.267,750.348 751.17,700.567 760.929,651.505 775.45,603.637 794.592,557.422 818.173,513.306 845.964,471.714 877.698,433.046 913.069,397.675 \n",
       "  951.737,365.941 993.329,338.15 1037.44,314.57 1083.66,295.427 1131.53,280.906 1180.59,271.148 1230.37,266.244 1280.39,266.244 1330.17,271.148 1379.24,280.906 \n",
       "  1427.1,295.427 1473.32,314.57 1517.44,338.15 1559.03,365.941 1597.7,397.675 1633.07,433.046 1664.8,471.714 1692.59,513.306 1716.17,557.422 1735.31,603.637 \n",
       "  1749.83,651.505 1759.59,700.567 1764.5,750.348 1764.5,800.371 1759.59,850.152 1749.83,899.213 1735.31,947.082 1716.17,993.297 1692.59,1037.41 1664.8,1079 \n",
       "  1633.07,1117.67 1597.7,1153.04 1559.03,1184.78 1517.44,1212.57 1473.32,1236.15 1427.1,1255.29 1379.24,1269.81 1330.17,1279.57 1280.39,1284.47 1230.37,1284.47 \n",
       "  1180.59,1279.57 1131.53,1269.81 1083.66,1255.29 1037.44,1236.15 993.329,1212.57 951.737,1184.78 913.069,1153.04 877.698,1117.67 845.964,1079 818.173,1037.41 \n",
       "  794.592,993.297 775.45,947.082 760.929,899.213 751.17,850.152 746.267,800.371 \n",
       "  \"/>\n",
       "</svg>\n"
      ]
     },
     "execution_count": 20,
     "metadata": {},
     "output_type": "execute_result"
    }
   ],
   "source": [
    "using Plots\n",
    "plot(ratio=:equal)\n",
    "plot!(JuMP.value(quartic_outer))\n",
    "plot!(p)\n",
    "plot!(S10)\n",
    "plot!(S8)\n",
    "plot!(S6)\n",
    "plot!(S4)\n",
    "plot!(S2)"
   ]
  },
  {
   "cell_type": "markdown",
   "metadata": {},
   "source": [
    "## Non-homogeneous"
   ]
  },
  {
   "cell_type": "code",
   "execution_count": 21,
   "metadata": {
    "collapsed": true
   },
   "outputs": [],
   "source": [
    "using Polyhedra\n",
    "shift = 1.1\n",
    "h = HalfSpace([1, 0], 1.0 + shift) ∩ HalfSpace([-1, 0], 1.0 - shift) ∩ HalfSpace([0, 1], 1) ∩ HalfSpace([0, -1], 1)\n",
    "p = polyhedron(h);"
   ]
  },
  {
   "cell_type": "code",
   "execution_count": 22,
   "metadata": {},
   "outputs": [
    {
     "name": "stdout",
     "output_type": "stream",
     "text": [
      "  2.719269 seconds (6.60 M allocations: 326.959 MiB, 7.15% gc time)\n",
      "JuMP.termination_status(model) = OPTIMAL::TerminationStatusCode = 1\n",
      "JuMP.objective_value(model) = 0.30437683327156373\n"
     ]
    }
   ],
   "source": [
    "model = Model(optimizer_constructor);\n",
    "@variable(model, john, Ellipsoid(point=SetProg.InteriorPoint([shift, 0.0])))\n",
    "cref = @constraint(model, john ⊆ p)\n",
    "@objective(model, Max, nth_root(volume(john)))\n",
    "@time JuMP.optimize!(model)\n",
    "@show JuMP.termination_status(model)\n",
    "@show JuMP.objective_value(model);"
   ]
  },
  {
   "cell_type": "code",
   "execution_count": 23,
   "metadata": {},
   "outputs": [
    {
     "data": {
      "text/plain": [
       "SetProg.Sets.PerspectiveDual{Float64,SetProg.Sets.Householder{Float64,SetProg.Sets.ShiftedEllipsoid{Float64},Float64}}(SetProg.Sets.Householder{Float64,SetProg.Sets.ShiftedEllipsoid{Float64},Float64}(SetProg.Sets.ShiftedEllipsoid{Float64}([0.204746 -1.48262e-6; -1.48262e-6 0.452489], [-0.225221, 1.61892e-6], -0.7522573495421817), -0.45248869371450345z² - 0.9954751304239675zx₁ + 1.6097143006322735e-8zx₂ - 0.09502264901434204x₁² - 4.390436041890046e-6x₁x₂ + 0.4524886951996058x₂², [1.1, 0.0], z, DynamicPolynomials.PolyVar{true}[x₁, x₂]))"
      ]
     },
     "execution_count": 23,
     "metadata": {},
     "output_type": "execute_result"
    }
   ],
   "source": [
    "JuMP.value(john)"
   ]
  },
  {
   "cell_type": "code",
   "execution_count": 24,
   "metadata": {},
   "outputs": [
    {
     "data": {
      "text/plain": [
       "2.5142100915471106"
      ]
     },
     "execution_count": 24,
     "metadata": {},
     "output_type": "execute_result"
    }
   ],
   "source": [
    "support_function(JuMP.value(john), [1, 1])"
   ]
  },
  {
   "cell_type": "code",
   "execution_count": 25,
   "metadata": {},
   "outputs": [
    {
     "data": {
      "text/plain": [
       "-0.10000002531454462"
      ]
     },
     "execution_count": 25,
     "metadata": {},
     "output_type": "execute_result"
    }
   ],
   "source": [
    "support_function(JuMP.value(john), [-1, 0])"
   ]
  },
  {
   "cell_type": "code",
   "execution_count": 26,
   "metadata": {},
   "outputs": [
    {
     "data": {
      "text/plain": [
       "2.099999984082508"
      ]
     },
     "execution_count": 26,
     "metadata": {},
     "output_type": "execute_result"
    }
   ],
   "source": [
    "support_function(JuMP.value(john), [1, 0])"
   ]
  },
  {
   "cell_type": "code",
   "execution_count": 27,
   "metadata": {},
   "outputs": [
    {
     "data": {
      "text/plain": [
       "0.9999999838536954"
      ]
     },
     "execution_count": 27,
     "metadata": {},
     "output_type": "execute_result"
    }
   ],
   "source": [
    "support_function(JuMP.value(john), [0, 1])"
   ]
  },
  {
   "cell_type": "code",
   "execution_count": 28,
   "metadata": {},
   "outputs": [
    {
     "data": {
      "text/plain": [
       "SetProg.Sets.Translation{SetProg.Sets.EllipsoidAtOrigin{Float64},Float64,Array{Float64,1}}(SetProg.Sets.EllipsoidAtOrigin{Float64}([1.0 4.871e-6; 4.871e-6 1.0]), [1.1, -1.77873e-8])"
      ]
     },
     "execution_count": 28,
     "metadata": {},
     "output_type": "execute_result"
    }
   ],
   "source": [
    "SetProg.Sets.ellipsoid(JuMP.value(john))"
   ]
  },
  {
   "cell_type": "code",
   "execution_count": 29,
   "metadata": {},
   "outputs": [
    {
     "data": {
      "image/svg+xml": [
       "<?xml version=\"1.0\" encoding=\"utf-8\"?>\n",
       "<svg xmlns=\"http://www.w3.org/2000/svg\" xmlns:xlink=\"http://www.w3.org/1999/xlink\" width=\"600\" height=\"400\" viewBox=\"0 0 2400 1600\">\n",
       "<defs>\n",
       "  <clipPath id=\"clip1100\">\n",
       "    <rect x=\"0\" y=\"0\" width=\"2400\" height=\"1600\"/>\n",
       "  </clipPath>\n",
       "</defs>\n",
       "<polygon clip-path=\"url(#clip1100)\" points=\"\n",
       "0,1600 2400,1600 2400,0 0,0 \n",
       "  \" fill=\"#ffffff\" fill-rule=\"evenodd\" fill-opacity=\"1\"/>\n",
       "<defs>\n",
       "  <clipPath id=\"clip1101\">\n",
       "    <rect x=\"480\" y=\"0\" width=\"1681\" height=\"1600\"/>\n",
       "  </clipPath>\n",
       "</defs>\n",
       "<polygon clip-path=\"url(#clip1100)\" points=\"\n",
       "527.267,1503.47 1983.5,1503.47 1983.5,47.2441 527.267,47.2441 \n",
       "  \" fill=\"#ffffff\" fill-rule=\"evenodd\" fill-opacity=\"1\"/>\n",
       "<defs>\n",
       "  <clipPath id=\"clip1102\">\n",
       "    <rect x=\"527\" y=\"47\" width=\"1457\" height=\"1457\"/>\n",
       "  </clipPath>\n",
       "</defs>\n",
       "<polyline clip-path=\"url(#clip1102)\" style=\"stroke:#000000; stroke-width:2; stroke-opacity:0.1; fill:none\" points=\"\n",
       "  843.241,1503.47 843.241,47.2441 \n",
       "  \"/>\n",
       "<polyline clip-path=\"url(#clip1102)\" style=\"stroke:#000000; stroke-width:2; stroke-opacity:0.1; fill:none\" points=\"\n",
       "  1186.69,1503.47 1186.69,47.2441 \n",
       "  \"/>\n",
       "<polyline clip-path=\"url(#clip1102)\" style=\"stroke:#000000; stroke-width:2; stroke-opacity:0.1; fill:none\" points=\"\n",
       "  1530.14,1503.47 1530.14,47.2441 \n",
       "  \"/>\n",
       "<polyline clip-path=\"url(#clip1102)\" style=\"stroke:#000000; stroke-width:2; stroke-opacity:0.1; fill:none\" points=\"\n",
       "  1873.59,1503.47 1873.59,47.2441 \n",
       "  \"/>\n",
       "<polyline clip-path=\"url(#clip1102)\" style=\"stroke:#000000; stroke-width:2; stroke-opacity:0.1; fill:none\" points=\"\n",
       "  527.267,1462.26 1983.5,1462.26 \n",
       "  \"/>\n",
       "<polyline clip-path=\"url(#clip1102)\" style=\"stroke:#000000; stroke-width:2; stroke-opacity:0.1; fill:none\" points=\"\n",
       "  527.267,1118.81 1983.5,1118.81 \n",
       "  \"/>\n",
       "<polyline clip-path=\"url(#clip1102)\" style=\"stroke:#000000; stroke-width:2; stroke-opacity:0.1; fill:none\" points=\"\n",
       "  527.267,775.359 1983.5,775.359 \n",
       "  \"/>\n",
       "<polyline clip-path=\"url(#clip1102)\" style=\"stroke:#000000; stroke-width:2; stroke-opacity:0.1; fill:none\" points=\"\n",
       "  527.267,431.909 1983.5,431.909 \n",
       "  \"/>\n",
       "<polyline clip-path=\"url(#clip1102)\" style=\"stroke:#000000; stroke-width:2; stroke-opacity:0.1; fill:none\" points=\"\n",
       "  527.267,88.4582 1983.5,88.4582 \n",
       "  \"/>\n",
       "<polyline clip-path=\"url(#clip1100)\" style=\"stroke:#000000; stroke-width:4; stroke-opacity:1; fill:none\" points=\"\n",
       "  527.267,1503.47 1983.5,1503.47 \n",
       "  \"/>\n",
       "<polyline clip-path=\"url(#clip1100)\" style=\"stroke:#000000; stroke-width:4; stroke-opacity:1; fill:none\" points=\"\n",
       "  527.267,1503.47 527.267,47.2441 \n",
       "  \"/>\n",
       "<polyline clip-path=\"url(#clip1100)\" style=\"stroke:#000000; stroke-width:4; stroke-opacity:1; fill:none\" points=\"\n",
       "  843.241,1503.47 843.241,1481.63 \n",
       "  \"/>\n",
       "<polyline clip-path=\"url(#clip1100)\" style=\"stroke:#000000; stroke-width:4; stroke-opacity:1; fill:none\" points=\"\n",
       "  1186.69,1503.47 1186.69,1481.63 \n",
       "  \"/>\n",
       "<polyline clip-path=\"url(#clip1100)\" style=\"stroke:#000000; stroke-width:4; stroke-opacity:1; fill:none\" points=\"\n",
       "  1530.14,1503.47 1530.14,1481.63 \n",
       "  \"/>\n",
       "<polyline clip-path=\"url(#clip1100)\" style=\"stroke:#000000; stroke-width:4; stroke-opacity:1; fill:none\" points=\"\n",
       "  1873.59,1503.47 1873.59,1481.63 \n",
       "  \"/>\n",
       "<polyline clip-path=\"url(#clip1100)\" style=\"stroke:#000000; stroke-width:4; stroke-opacity:1; fill:none\" points=\"\n",
       "  527.267,1462.26 549.11,1462.26 \n",
       "  \"/>\n",
       "<polyline clip-path=\"url(#clip1100)\" style=\"stroke:#000000; stroke-width:4; stroke-opacity:1; fill:none\" points=\"\n",
       "  527.267,1118.81 549.11,1118.81 \n",
       "  \"/>\n",
       "<polyline clip-path=\"url(#clip1100)\" style=\"stroke:#000000; stroke-width:4; stroke-opacity:1; fill:none\" points=\"\n",
       "  527.267,775.359 549.11,775.359 \n",
       "  \"/>\n",
       "<polyline clip-path=\"url(#clip1100)\" style=\"stroke:#000000; stroke-width:4; stroke-opacity:1; fill:none\" points=\"\n",
       "  527.267,431.909 549.11,431.909 \n",
       "  \"/>\n",
       "<polyline clip-path=\"url(#clip1100)\" style=\"stroke:#000000; stroke-width:4; stroke-opacity:1; fill:none\" points=\"\n",
       "  527.267,88.4582 549.11,88.4582 \n",
       "  \"/>\n",
       "<g clip-path=\"url(#clip1100)\">\n",
       "<text style=\"fill:#000000; fill-opacity:1; font-family:Arial,Helvetica Neue,Helvetica,sans-serif; font-size:48px; text-anchor:middle;\" transform=\"rotate(0, 843.241, 1557.47)\" x=\"843.241\" y=\"1557.47\">0.5</text>\n",
       "</g>\n",
       "<g clip-path=\"url(#clip1100)\">\n",
       "<text style=\"fill:#000000; fill-opacity:1; font-family:Arial,Helvetica Neue,Helvetica,sans-serif; font-size:48px; text-anchor:middle;\" transform=\"rotate(0, 1186.69, 1557.47)\" x=\"1186.69\" y=\"1557.47\">1.0</text>\n",
       "</g>\n",
       "<g clip-path=\"url(#clip1100)\">\n",
       "<text style=\"fill:#000000; fill-opacity:1; font-family:Arial,Helvetica Neue,Helvetica,sans-serif; font-size:48px; text-anchor:middle;\" transform=\"rotate(0, 1530.14, 1557.47)\" x=\"1530.14\" y=\"1557.47\">1.5</text>\n",
       "</g>\n",
       "<g clip-path=\"url(#clip1100)\">\n",
       "<text style=\"fill:#000000; fill-opacity:1; font-family:Arial,Helvetica Neue,Helvetica,sans-serif; font-size:48px; text-anchor:middle;\" transform=\"rotate(0, 1873.59, 1557.47)\" x=\"1873.59\" y=\"1557.47\">2.0</text>\n",
       "</g>\n",
       "<g clip-path=\"url(#clip1100)\">\n",
       "<text style=\"fill:#000000; fill-opacity:1; font-family:Arial,Helvetica Neue,Helvetica,sans-serif; font-size:48px; text-anchor:end;\" transform=\"rotate(0, 503.267, 1479.76)\" x=\"503.267\" y=\"1479.76\">-1.0</text>\n",
       "</g>\n",
       "<g clip-path=\"url(#clip1100)\">\n",
       "<text style=\"fill:#000000; fill-opacity:1; font-family:Arial,Helvetica Neue,Helvetica,sans-serif; font-size:48px; text-anchor:end;\" transform=\"rotate(0, 503.267, 1136.31)\" x=\"503.267\" y=\"1136.31\">-0.5</text>\n",
       "</g>\n",
       "<g clip-path=\"url(#clip1100)\">\n",
       "<text style=\"fill:#000000; fill-opacity:1; font-family:Arial,Helvetica Neue,Helvetica,sans-serif; font-size:48px; text-anchor:end;\" transform=\"rotate(0, 503.267, 792.859)\" x=\"503.267\" y=\"792.859\">0.0</text>\n",
       "</g>\n",
       "<g clip-path=\"url(#clip1100)\">\n",
       "<text style=\"fill:#000000; fill-opacity:1; font-family:Arial,Helvetica Neue,Helvetica,sans-serif; font-size:48px; text-anchor:end;\" transform=\"rotate(0, 503.267, 449.409)\" x=\"503.267\" y=\"449.409\">0.5</text>\n",
       "</g>\n",
       "<g clip-path=\"url(#clip1100)\">\n",
       "<text style=\"fill:#000000; fill-opacity:1; font-family:Arial,Helvetica Neue,Helvetica,sans-serif; font-size:48px; text-anchor:end;\" transform=\"rotate(0, 503.267, 105.958)\" x=\"503.267\" y=\"105.958\">1.0</text>\n",
       "</g>\n",
       "<polygon clip-path=\"url(#clip1102)\" points=\"\n",
       "568.481,88.4582 1942.28,88.4582 1942.28,1462.26 568.481,1462.26 568.481,88.4582 568.481,88.4582 \n",
       "  \" fill=\"#009af9\" fill-rule=\"evenodd\" fill-opacity=\"1\"/>\n",
       "<polyline clip-path=\"url(#clip1102)\" style=\"stroke:#000000; stroke-width:4; stroke-opacity:1; fill:none\" points=\"\n",
       "  568.481,88.4582 1942.28,88.4582 1942.28,1462.26 568.481,1462.26 568.481,88.4582 \n",
       "  \"/>\n",
       "<polygon clip-path=\"url(#clip1102)\" points=\"\n",
       "568.481,741.611 575.096,674.445 588.263,608.252 607.854,543.667 633.682,481.315 665.496,421.794 702.992,365.678 745.807,313.507 793.53,265.784 845.7,222.969 \n",
       "  901.816,185.474 961.337,153.659 1023.69,127.831 1088.27,108.24 1154.47,95.0734 1154.47,95.0734 1221.63,88.4582 1289.12,88.4582 1289.12,88.4582 1356.29,95.0734 \n",
       "  1356.29,95.0734 1422.48,108.24 1422.48,108.24 1487.07,127.832 1487.07,127.832 1549.42,153.659 1549.42,153.659 1608.94,185.474 1608.94,185.475 1665.06,222.97 \n",
       "  1665.06,222.97 1665.06,222.971 1717.23,265.786 1717.23,265.786 1717.23,265.786 1764.96,313.51 1764.96,313.51 1807.77,365.681 1807.77,365.681 1845.27,421.798 \n",
       "  1877.08,481.32 1877.08,481.32 1902.91,543.673 1922.5,608.258 1935.67,674.452 1942.28,741.617 1942.28,809.108 1935.67,876.273 1922.5,942.467 1902.91,1007.05 \n",
       "  1877.08,1069.4 1845.27,1128.93 1807.77,1185.04 1764.96,1237.21 1717.23,1284.93 1665.06,1327.75 1608.95,1365.25 1549.43,1397.06 1487.07,1422.89 1422.49,1442.48 \n",
       "  1356.3,1455.65 1289.13,1462.26 1221.64,1462.26 1154.47,1455.65 1088.28,1442.48 1023.7,1422.89 961.342,1397.06 901.82,1365.24 845.704,1327.75 793.532,1284.93 \n",
       "  745.809,1237.21 702.993,1185.04 665.497,1128.92 633.682,1069.4 607.854,1007.05 588.263,942.461 575.096,876.267 568.481,809.101 568.481,741.611 568.481,741.611 \n",
       "  \n",
       "  \" fill=\"#e26f46\" fill-rule=\"evenodd\" fill-opacity=\"1\"/>\n",
       "<polyline clip-path=\"url(#clip1102)\" style=\"stroke:#000000; stroke-width:4; stroke-opacity:1; fill:none\" points=\"\n",
       "  568.481,741.611 575.096,674.445 588.263,608.252 607.854,543.667 633.682,481.315 665.496,421.794 702.992,365.678 745.807,313.507 793.53,265.784 845.7,222.969 \n",
       "  901.816,185.474 961.337,153.659 1023.69,127.831 1088.27,108.24 1154.47,95.0734 1154.47,95.0734 1221.63,88.4582 1289.12,88.4582 1289.12,88.4582 1356.29,95.0734 \n",
       "  1356.29,95.0734 1422.48,108.24 1422.48,108.24 1487.07,127.832 1487.07,127.832 1549.42,153.659 1549.42,153.659 1608.94,185.474 1608.94,185.475 1665.06,222.97 \n",
       "  1665.06,222.97 1665.06,222.971 1717.23,265.786 1717.23,265.786 1717.23,265.786 1764.96,313.51 1764.96,313.51 1807.77,365.681 1807.77,365.681 1845.27,421.798 \n",
       "  1877.08,481.32 1877.08,481.32 1902.91,543.673 1922.5,608.258 1935.67,674.452 1942.28,741.617 1942.28,809.108 1935.67,876.273 1922.5,942.467 1902.91,1007.05 \n",
       "  1877.08,1069.4 1845.27,1128.93 1807.77,1185.04 1764.96,1237.21 1717.23,1284.93 1665.06,1327.75 1608.95,1365.25 1549.43,1397.06 1487.07,1422.89 1422.49,1442.48 \n",
       "  1356.3,1455.65 1289.13,1462.26 1221.64,1462.26 1154.47,1455.65 1088.28,1442.48 1023.7,1422.89 961.342,1397.06 901.82,1365.24 845.704,1327.75 793.532,1284.93 \n",
       "  745.809,1237.21 702.993,1185.04 665.497,1128.92 633.682,1069.4 607.854,1007.05 588.263,942.461 575.096,876.267 568.481,809.101 568.481,741.611 \n",
       "  \n",
       "  \"/>\n",
       "</svg>\n"
      ]
     },
     "execution_count": 29,
     "metadata": {},
     "output_type": "execute_result"
    }
   ],
   "source": [
    "using Plots\n",
    "plot(ratio=:equal)\n",
    "plot!(p)\n",
    "plot!(JuMP.value(john))"
   ]
  },
  {
   "cell_type": "code",
   "execution_count": 30,
   "metadata": {},
   "outputs": [
    {
     "name": "stdout",
     "output_type": "stream",
     "text": [
      "  1.043669 seconds (1.80 M allocations: 88.899 MiB, 4.20% gc time)\n",
      "JuMP.termination_status(model) = OPTIMAL::TerminationStatusCode = 1\n",
      "JuMP.objective_value(model) = 0.8763129974625536\n"
     ]
    }
   ],
   "source": [
    "model = Model(optimizer_constructor);\n",
    "@variable(model, quartic_inner, PolySet(convex=true, degree=2, point=SetProg.InteriorPoint([shift, 0.0])))\n",
    "cref = @constraint(model, quartic_inner ⊆ p)\n",
    "@objective(model, Max, L1_heuristic(volume(quartic_inner), [1.0, 1.0]))\n",
    "@time JuMP.optimize!(model)\n",
    "@show JuMP.termination_status(model)\n",
    "@show JuMP.objective_value(model);"
   ]
  },
  {
   "cell_type": "code",
   "execution_count": 31,
   "metadata": {},
   "outputs": [
    {
     "data": {
      "text/latex": [
       "$$ -0.45248868695057176z^{2} - 0.9954752851170244zx_{1} + 2.4562268239861748e-15zx_{2} - 0.09502276221662484x_{1}^{2} + 3.189124406449482e-12x_{1}x_{2} + 0.45248871180645805x_{2}^{2} $$"
      ],
      "text/plain": [
       "-0.45248868695057176z² - 0.9954752851170244zx₁ + 2.4562268239861748e-15zx₂ - 0.09502276221662484x₁² + 3.189124406449482e-12x₁x₂ + 0.45248871180645805x₂²"
      ]
     },
     "execution_count": 31,
     "metadata": {},
     "output_type": "execute_result"
    }
   ],
   "source": [
    "v = JuMP.value(quartic_inner)\n",
    "v.set.p"
   ]
  },
  {
   "cell_type": "code",
   "execution_count": 32,
   "metadata": {},
   "outputs": [
    {
     "data": {
      "text/latex": [
       "$$ -0.45248868695057176z^{2} - 0.9954752851170244zx_{1} + 2.4562268239861748e-15zx_{2} - 0.09502276221662484x_{1}^{2} + 3.189124406449482e-12x_{1}x_{2} + 0.45248871180645805x_{2}^{2} $$"
      ],
      "text/plain": [
       "-0.45248868695057176z² - 0.9954752851170244zx₁ + 2.4562268239861748e-15zx₂ - 0.09502276221662484x₁² + 3.189124406449482e-12x₁x₂ + 0.45248871180645805x₂²"
      ]
     },
     "execution_count": 32,
     "metadata": {},
     "output_type": "execute_result"
    }
   ],
   "source": [
    "v = JuMP.value(quartic_inner)\n",
    "v.set.p"
   ]
  },
  {
   "cell_type": "code",
   "execution_count": 33,
   "metadata": {},
   "outputs": [
    {
     "data": {
      "text/plain": [
       "2.51421380476945"
      ]
     },
     "execution_count": 33,
     "metadata": {},
     "output_type": "execute_result"
    }
   ],
   "source": [
    "support_function(JuMP.value(quartic_inner), [1, 1])"
   ]
  },
  {
   "cell_type": "code",
   "execution_count": 34,
   "metadata": {},
   "outputs": [
    {
     "data": {
      "text/plain": [
       "2.100000246602012"
      ]
     },
     "execution_count": 34,
     "metadata": {},
     "output_type": "execute_result"
    }
   ],
   "source": [
    "support_function(JuMP.value(quartic_inner), [1, 0])"
   ]
  },
  {
   "cell_type": "code",
   "execution_count": 35,
   "metadata": {},
   "outputs": [
    {
     "data": {
      "text/plain": [
       "-0.10000013304400399"
      ]
     },
     "execution_count": 35,
     "metadata": {},
     "output_type": "execute_result"
    }
   ],
   "source": [
    "support_function(JuMP.value(quartic_inner), [-1, 0])"
   ]
  },
  {
   "cell_type": "code",
   "execution_count": 36,
   "metadata": {},
   "outputs": [
    {
     "data": {
      "text/plain": [
       "0.9999999989318874"
      ]
     },
     "execution_count": 36,
     "metadata": {},
     "output_type": "execute_result"
    }
   ],
   "source": [
    "support_function(JuMP.value(quartic_inner), [0, 1])"
   ]
  },
  {
   "cell_type": "code",
   "execution_count": 37,
   "metadata": {},
   "outputs": [
    {
     "data": {
      "text/plain": [
       "0.9999999989318705"
      ]
     },
     "execution_count": 37,
     "metadata": {},
     "output_type": "execute_result"
    }
   ],
   "source": [
    "support_function(JuMP.value(quartic_inner), -[0, 1])"
   ]
  },
  {
   "cell_type": "code",
   "execution_count": 38,
   "metadata": {},
   "outputs": [
    {
     "data": {
      "image/svg+xml": [
       "<?xml version=\"1.0\" encoding=\"utf-8\"?>\n",
       "<svg xmlns=\"http://www.w3.org/2000/svg\" xmlns:xlink=\"http://www.w3.org/1999/xlink\" width=\"600\" height=\"400\" viewBox=\"0 0 2400 1600\">\n",
       "<defs>\n",
       "  <clipPath id=\"clip1500\">\n",
       "    <rect x=\"0\" y=\"0\" width=\"2400\" height=\"1600\"/>\n",
       "  </clipPath>\n",
       "</defs>\n",
       "<polygon clip-path=\"url(#clip1500)\" points=\"\n",
       "0,1600 2400,1600 2400,0 0,0 \n",
       "  \" fill=\"#ffffff\" fill-rule=\"evenodd\" fill-opacity=\"1\"/>\n",
       "<defs>\n",
       "  <clipPath id=\"clip1501\">\n",
       "    <rect x=\"480\" y=\"0\" width=\"1681\" height=\"1600\"/>\n",
       "  </clipPath>\n",
       "</defs>\n",
       "<polygon clip-path=\"url(#clip1500)\" points=\"\n",
       "527.267,1503.47 1983.5,1503.47 1983.5,47.2441 527.267,47.2441 \n",
       "  \" fill=\"#ffffff\" fill-rule=\"evenodd\" fill-opacity=\"1\"/>\n",
       "<defs>\n",
       "  <clipPath id=\"clip1502\">\n",
       "    <rect x=\"527\" y=\"47\" width=\"1457\" height=\"1457\"/>\n",
       "  </clipPath>\n",
       "</defs>\n",
       "<polyline clip-path=\"url(#clip1502)\" style=\"stroke:#000000; stroke-width:2; stroke-opacity:0.1; fill:none\" points=\"\n",
       "  843.241,1503.47 843.241,47.2441 \n",
       "  \"/>\n",
       "<polyline clip-path=\"url(#clip1502)\" style=\"stroke:#000000; stroke-width:2; stroke-opacity:0.1; fill:none\" points=\"\n",
       "  1186.69,1503.47 1186.69,47.2441 \n",
       "  \"/>\n",
       "<polyline clip-path=\"url(#clip1502)\" style=\"stroke:#000000; stroke-width:2; stroke-opacity:0.1; fill:none\" points=\"\n",
       "  1530.14,1503.47 1530.14,47.2441 \n",
       "  \"/>\n",
       "<polyline clip-path=\"url(#clip1502)\" style=\"stroke:#000000; stroke-width:2; stroke-opacity:0.1; fill:none\" points=\"\n",
       "  1873.59,1503.47 1873.59,47.2441 \n",
       "  \"/>\n",
       "<polyline clip-path=\"url(#clip1502)\" style=\"stroke:#000000; stroke-width:2; stroke-opacity:0.1; fill:none\" points=\"\n",
       "  527.267,1462.26 1983.5,1462.26 \n",
       "  \"/>\n",
       "<polyline clip-path=\"url(#clip1502)\" style=\"stroke:#000000; stroke-width:2; stroke-opacity:0.1; fill:none\" points=\"\n",
       "  527.267,1118.81 1983.5,1118.81 \n",
       "  \"/>\n",
       "<polyline clip-path=\"url(#clip1502)\" style=\"stroke:#000000; stroke-width:2; stroke-opacity:0.1; fill:none\" points=\"\n",
       "  527.267,775.359 1983.5,775.359 \n",
       "  \"/>\n",
       "<polyline clip-path=\"url(#clip1502)\" style=\"stroke:#000000; stroke-width:2; stroke-opacity:0.1; fill:none\" points=\"\n",
       "  527.267,431.909 1983.5,431.909 \n",
       "  \"/>\n",
       "<polyline clip-path=\"url(#clip1502)\" style=\"stroke:#000000; stroke-width:2; stroke-opacity:0.1; fill:none\" points=\"\n",
       "  527.267,88.4582 1983.5,88.4582 \n",
       "  \"/>\n",
       "<polyline clip-path=\"url(#clip1500)\" style=\"stroke:#000000; stroke-width:4; stroke-opacity:1; fill:none\" points=\"\n",
       "  527.267,1503.47 1983.5,1503.47 \n",
       "  \"/>\n",
       "<polyline clip-path=\"url(#clip1500)\" style=\"stroke:#000000; stroke-width:4; stroke-opacity:1; fill:none\" points=\"\n",
       "  527.267,1503.47 527.267,47.2441 \n",
       "  \"/>\n",
       "<polyline clip-path=\"url(#clip1500)\" style=\"stroke:#000000; stroke-width:4; stroke-opacity:1; fill:none\" points=\"\n",
       "  843.241,1503.47 843.241,1481.63 \n",
       "  \"/>\n",
       "<polyline clip-path=\"url(#clip1500)\" style=\"stroke:#000000; stroke-width:4; stroke-opacity:1; fill:none\" points=\"\n",
       "  1186.69,1503.47 1186.69,1481.63 \n",
       "  \"/>\n",
       "<polyline clip-path=\"url(#clip1500)\" style=\"stroke:#000000; stroke-width:4; stroke-opacity:1; fill:none\" points=\"\n",
       "  1530.14,1503.47 1530.14,1481.63 \n",
       "  \"/>\n",
       "<polyline clip-path=\"url(#clip1500)\" style=\"stroke:#000000; stroke-width:4; stroke-opacity:1; fill:none\" points=\"\n",
       "  1873.59,1503.47 1873.59,1481.63 \n",
       "  \"/>\n",
       "<polyline clip-path=\"url(#clip1500)\" style=\"stroke:#000000; stroke-width:4; stroke-opacity:1; fill:none\" points=\"\n",
       "  527.267,1462.26 549.11,1462.26 \n",
       "  \"/>\n",
       "<polyline clip-path=\"url(#clip1500)\" style=\"stroke:#000000; stroke-width:4; stroke-opacity:1; fill:none\" points=\"\n",
       "  527.267,1118.81 549.11,1118.81 \n",
       "  \"/>\n",
       "<polyline clip-path=\"url(#clip1500)\" style=\"stroke:#000000; stroke-width:4; stroke-opacity:1; fill:none\" points=\"\n",
       "  527.267,775.359 549.11,775.359 \n",
       "  \"/>\n",
       "<polyline clip-path=\"url(#clip1500)\" style=\"stroke:#000000; stroke-width:4; stroke-opacity:1; fill:none\" points=\"\n",
       "  527.267,431.909 549.11,431.909 \n",
       "  \"/>\n",
       "<polyline clip-path=\"url(#clip1500)\" style=\"stroke:#000000; stroke-width:4; stroke-opacity:1; fill:none\" points=\"\n",
       "  527.267,88.4582 549.11,88.4582 \n",
       "  \"/>\n",
       "<g clip-path=\"url(#clip1500)\">\n",
       "<text style=\"fill:#000000; fill-opacity:1; font-family:Arial,Helvetica Neue,Helvetica,sans-serif; font-size:48px; text-anchor:middle;\" transform=\"rotate(0, 843.241, 1557.47)\" x=\"843.241\" y=\"1557.47\">0.5</text>\n",
       "</g>\n",
       "<g clip-path=\"url(#clip1500)\">\n",
       "<text style=\"fill:#000000; fill-opacity:1; font-family:Arial,Helvetica Neue,Helvetica,sans-serif; font-size:48px; text-anchor:middle;\" transform=\"rotate(0, 1186.69, 1557.47)\" x=\"1186.69\" y=\"1557.47\">1.0</text>\n",
       "</g>\n",
       "<g clip-path=\"url(#clip1500)\">\n",
       "<text style=\"fill:#000000; fill-opacity:1; font-family:Arial,Helvetica Neue,Helvetica,sans-serif; font-size:48px; text-anchor:middle;\" transform=\"rotate(0, 1530.14, 1557.47)\" x=\"1530.14\" y=\"1557.47\">1.5</text>\n",
       "</g>\n",
       "<g clip-path=\"url(#clip1500)\">\n",
       "<text style=\"fill:#000000; fill-opacity:1; font-family:Arial,Helvetica Neue,Helvetica,sans-serif; font-size:48px; text-anchor:middle;\" transform=\"rotate(0, 1873.59, 1557.47)\" x=\"1873.59\" y=\"1557.47\">2.0</text>\n",
       "</g>\n",
       "<g clip-path=\"url(#clip1500)\">\n",
       "<text style=\"fill:#000000; fill-opacity:1; font-family:Arial,Helvetica Neue,Helvetica,sans-serif; font-size:48px; text-anchor:end;\" transform=\"rotate(0, 503.267, 1479.76)\" x=\"503.267\" y=\"1479.76\">-1.0</text>\n",
       "</g>\n",
       "<g clip-path=\"url(#clip1500)\">\n",
       "<text style=\"fill:#000000; fill-opacity:1; font-family:Arial,Helvetica Neue,Helvetica,sans-serif; font-size:48px; text-anchor:end;\" transform=\"rotate(0, 503.267, 1136.31)\" x=\"503.267\" y=\"1136.31\">-0.5</text>\n",
       "</g>\n",
       "<g clip-path=\"url(#clip1500)\">\n",
       "<text style=\"fill:#000000; fill-opacity:1; font-family:Arial,Helvetica Neue,Helvetica,sans-serif; font-size:48px; text-anchor:end;\" transform=\"rotate(0, 503.267, 792.859)\" x=\"503.267\" y=\"792.859\">0.0</text>\n",
       "</g>\n",
       "<g clip-path=\"url(#clip1500)\">\n",
       "<text style=\"fill:#000000; fill-opacity:1; font-family:Arial,Helvetica Neue,Helvetica,sans-serif; font-size:48px; text-anchor:end;\" transform=\"rotate(0, 503.267, 449.409)\" x=\"503.267\" y=\"449.409\">0.5</text>\n",
       "</g>\n",
       "<g clip-path=\"url(#clip1500)\">\n",
       "<text style=\"fill:#000000; fill-opacity:1; font-family:Arial,Helvetica Neue,Helvetica,sans-serif; font-size:48px; text-anchor:end;\" transform=\"rotate(0, 503.267, 105.958)\" x=\"503.267\" y=\"105.958\">1.0</text>\n",
       "</g>\n",
       "<polygon clip-path=\"url(#clip1502)\" points=\"\n",
       "568.481,88.4582 1942.28,88.4582 1942.28,1462.26 568.481,1462.26 568.481,88.4582 568.481,88.4582 \n",
       "  \" fill=\"#009af9\" fill-rule=\"evenodd\" fill-opacity=\"1\"/>\n",
       "<polyline clip-path=\"url(#clip1502)\" style=\"stroke:#000000; stroke-width:4; stroke-opacity:1; fill:none\" points=\"\n",
       "  568.481,88.4582 1942.28,88.4582 1942.28,1462.26 568.481,1462.26 568.481,88.4582 \n",
       "  \"/>\n",
       "<polygon clip-path=\"url(#clip1502)\" points=\"\n",
       "568.481,741.614 575.096,674.449 588.263,608.255 607.854,543.67 633.682,481.317 665.497,421.796 702.992,365.679 745.808,313.508 793.531,265.785 845.702,222.97 \n",
       "  901.818,185.474 961.34,153.659 961.34,153.659 1023.69,127.832 1088.28,108.24 1088.28,108.24 1154.47,95.0734 1154.47,95.0734 1221.64,88.4582 1289.13,88.4582 \n",
       "  1356.29,95.0734 1356.29,95.0734 1422.49,108.24 1422.49,108.24 1487.07,127.832 1487.07,127.832 1549.42,153.659 1608.95,185.474 1608.95,185.474 1665.06,222.97 \n",
       "  1717.23,265.785 1717.23,265.785 1764.96,313.508 1764.96,313.508 1807.77,365.679 1845.27,421.796 1877.08,481.317 1902.91,543.67 1922.5,608.255 1935.67,674.448 \n",
       "  1942.28,741.614 1942.28,809.105 1935.67,876.27 1922.5,942.464 1902.91,1007.05 1877.08,1069.4 1845.27,1128.92 1807.77,1185.04 1807.77,1185.04 1764.96,1237.21 \n",
       "  1764.96,1237.21 1717.23,1284.93 1717.23,1284.93 1665.06,1327.75 1665.06,1327.75 1608.95,1365.24 1549.42,1397.06 1549.42,1397.06 1487.07,1422.89 1487.07,1422.89 \n",
       "  1422.49,1442.48 1356.29,1455.65 1356.29,1455.65 1289.13,1462.26 1221.64,1462.26 1154.47,1455.65 1088.28,1442.48 1023.69,1422.89 961.34,1397.06 901.818,1365.24 \n",
       "  845.702,1327.75 793.531,1284.93 745.808,1237.21 702.992,1185.04 665.497,1128.92 633.682,1069.4 607.854,1007.05 588.263,942.464 575.096,876.27 568.481,809.105 \n",
       "  568.481,741.614 568.481,741.614 \n",
       "  \" fill=\"#e26f46\" fill-rule=\"evenodd\" fill-opacity=\"1\"/>\n",
       "<polyline clip-path=\"url(#clip1502)\" style=\"stroke:#000000; stroke-width:4; stroke-opacity:1; fill:none\" points=\"\n",
       "  568.481,741.614 575.096,674.449 588.263,608.255 607.854,543.67 633.682,481.317 665.497,421.796 702.992,365.679 745.808,313.508 793.531,265.785 845.702,222.97 \n",
       "  901.818,185.474 961.34,153.659 961.34,153.659 1023.69,127.832 1088.28,108.24 1088.28,108.24 1154.47,95.0734 1154.47,95.0734 1221.64,88.4582 1289.13,88.4582 \n",
       "  1356.29,95.0734 1356.29,95.0734 1422.49,108.24 1422.49,108.24 1487.07,127.832 1487.07,127.832 1549.42,153.659 1608.95,185.474 1608.95,185.474 1665.06,222.97 \n",
       "  1717.23,265.785 1717.23,265.785 1764.96,313.508 1764.96,313.508 1807.77,365.679 1845.27,421.796 1877.08,481.317 1902.91,543.67 1922.5,608.255 1935.67,674.448 \n",
       "  1942.28,741.614 1942.28,809.105 1935.67,876.27 1922.5,942.464 1902.91,1007.05 1877.08,1069.4 1845.27,1128.92 1807.77,1185.04 1807.77,1185.04 1764.96,1237.21 \n",
       "  1764.96,1237.21 1717.23,1284.93 1717.23,1284.93 1665.06,1327.75 1665.06,1327.75 1608.95,1365.24 1549.42,1397.06 1549.42,1397.06 1487.07,1422.89 1487.07,1422.89 \n",
       "  1422.49,1442.48 1356.29,1455.65 1356.29,1455.65 1289.13,1462.26 1221.64,1462.26 1154.47,1455.65 1088.28,1442.48 1023.69,1422.89 961.34,1397.06 901.818,1365.24 \n",
       "  845.702,1327.75 793.531,1284.93 745.808,1237.21 702.992,1185.04 665.497,1128.92 633.682,1069.4 607.854,1007.05 588.263,942.464 575.096,876.27 568.481,809.105 \n",
       "  568.481,741.614 \n",
       "  \"/>\n",
       "</svg>\n"
      ]
     },
     "execution_count": 38,
     "metadata": {},
     "output_type": "execute_result"
    }
   ],
   "source": [
    "using Plots\n",
    "plot(ratio=:equal)\n",
    "plot!(p)\n",
    "plot!(JuMP.value(quartic_inner))"
   ]
  },
  {
   "cell_type": "code",
   "execution_count": null,
   "metadata": {
    "collapsed": true
   },
   "outputs": [],
   "source": []
  }
 ],
 "metadata": {
  "kernelspec": {
   "display_name": "Julia 1.3.1",
   "language": "julia",
   "name": "julia-1.3"
  },
  "language_info": {
   "file_extension": ".jl",
   "mimetype": "application/julia",
   "name": "julia",
   "version": "1.3.1"
  }
 },
 "nbformat": 4,
 "nbformat_minor": 2
}
